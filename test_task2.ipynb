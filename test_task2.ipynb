{
 "cells": [
  {
   "cell_type": "code",
   "execution_count": 1,
   "id": "initial_id",
   "metadata": {
    "collapsed": true,
    "ExecuteTime": {
     "end_time": "2024-07-23T19:08:45.405895600Z",
     "start_time": "2024-07-23T19:08:42.979948400Z"
    }
   },
   "outputs": [],
   "source": [
    "import pandas as pd # Importing pandas\n",
    "\n",
    "\n",
    "file_path = 'macro.data.csv' #Importing file\n",
    "df = pd.read_csv(file_path)"
   ]
  },
  {
   "cell_type": "code",
   "execution_count": 2,
   "outputs": [
    {
     "data": {
      "text/plain": "          Region           Country  CountryID               Industry  Edition  \\\n0   Asia Pacific        Azerbaijan        163  Countries & Consumers     2014   \n1   Asia Pacific             China        195  Countries & Consumers     2014   \n2   Asia Pacific  Hong Kong, China        259  Countries & Consumers     2014   \n3   Asia Pacific             India        265  Countries & Consumers     2014   \n4   Asia Pacific         Indonesia        263  Countries & Consumers     2014   \n..           ...               ...        ...                    ...      ...   \n95  Asia Pacific          Malaysia        314  Countries & Consumers     2014   \n96  Asia Pacific          Pakistan        332  Countries & Consumers     2014   \n97  Asia Pacific          Pakistan        332  Countries & Consumers     2014   \n98  Asia Pacific       Philippines        331  Countries & Consumers     2014   \n99  Asia Pacific       Philippines        331  Countries & Consumers     2014   \n\n                Category  ParentID  \\\n0    Economy and Finance      1632   \n1    Economy and Finance      1632   \n2    Economy and Finance      1632   \n3    Economy and Finance      1632   \n4    Economy and Finance      1632   \n..                   ...       ...   \n95            Population      1552   \n96  Households and Homes     30448   \n97            Population      1552   \n98  Households and Homes     30448   \n99            Population      1552   \n\n                                      Subcategory  ProductID Lowest Level  \\\n0                                       Total GDP       1634           no   \n1                                       Total GDP       1634           no   \n2                                       Total GDP       1634           no   \n3                                       Total GDP       1634           no   \n4                                       Total GDP       1634           no   \n..                                            ...        ...          ...   \n95  Population: National Estimates at January 1st       1554           no   \n96                     Possession of Refrigerator       2508          yes   \n97  Population: National Estimates at January 1st       1554           no   \n98                     Possession of Refrigerator       2508          yes   \n99  Population: National Estimates at January 1st       1554           no   \n\n    ...          2021          2022          2023          2024          2025  \\\n0   ...  1.013374e+05  1.055003e+05  1.098343e+05  1.143463e+05  1.190436e+05   \n1   ...  1.572255e+07  1.666598e+07  1.766592e+07  1.872588e+07  1.984943e+07   \n2   ...  3.553615e+05  3.670885e+05  3.792024e+05  3.917161e+05  4.046427e+05   \n3   ...  3.208204e+06  3.426360e+06  3.659353e+06  3.908189e+06  4.173946e+06   \n4   ...  1.331538e+06  1.404773e+06  1.482036e+06  1.563548e+06  1.649543e+06   \n..  ...           ...           ...           ...           ...           ...   \n95  ...  3.281230e+04  3.319369e+04  3.356975e+04  3.393934e+04  3.430138e+04   \n96  ...  5.086145e+01  5.135169e+01  5.180021e+01  5.221010e+01  5.258472e+01   \n97  ...  2.585444e+05  2.639318e+05  2.691555e+05  2.741900e+05  2.790153e+05   \n98  ...  4.959404e+01  5.012536e+01  5.062323e+01  5.108793e+01  5.152239e+01   \n99  ...  1.121598e+05  1.139256e+05  1.156956e+05  1.174621e+05  1.192190e+05   \n\n            2026          2027          2028          2029          2030  \n0   1.239339e+05  1.290251e+05  1.343255e+05  1.398436e+05  1.455884e+05  \n1   2.104040e+07  2.230282e+07  2.364099e+07  2.505945e+07  2.656302e+07  \n2   4.179959e+05  4.317898e+05  4.460389e+05  4.607581e+05  4.759632e+05  \n3   4.457774e+06  4.760902e+06  5.084644e+06  5.430400e+06  5.799667e+06  \n4   1.740267e+06  1.835982e+06  1.936961e+06  2.043494e+06  2.155886e+06  \n..           ...           ...           ...           ...           ...  \n95  3.465506e+04  3.499987e+04  3.533529e+04  3.566077e+04  3.597589e+04  \n96  5.292723e+01  5.324029e+01  5.352646e+01  5.378805e+01  5.402717e+01  \n97  2.836214e+05  2.880067e+05  2.921704e+05  2.961157e+05  2.998443e+05  \n98  5.192178e+01  5.229422e+01  5.264123e+01  5.296411e+01  5.326430e+01  \n99  1.209638e+05  1.226955e+05  1.244125e+05  1.261134e+05  1.277972e+05  \n\n[100 rows x 72 columns]",
      "text/html": "<div>\n<style scoped>\n    .dataframe tbody tr th:only-of-type {\n        vertical-align: middle;\n    }\n\n    .dataframe tbody tr th {\n        vertical-align: top;\n    }\n\n    .dataframe thead th {\n        text-align: right;\n    }\n</style>\n<table border=\"1\" class=\"dataframe\">\n  <thead>\n    <tr style=\"text-align: right;\">\n      <th></th>\n      <th>Region</th>\n      <th>Country</th>\n      <th>CountryID</th>\n      <th>Industry</th>\n      <th>Edition</th>\n      <th>Category</th>\n      <th>ParentID</th>\n      <th>Subcategory</th>\n      <th>ProductID</th>\n      <th>Lowest Level</th>\n      <th>...</th>\n      <th>2021</th>\n      <th>2022</th>\n      <th>2023</th>\n      <th>2024</th>\n      <th>2025</th>\n      <th>2026</th>\n      <th>2027</th>\n      <th>2028</th>\n      <th>2029</th>\n      <th>2030</th>\n    </tr>\n  </thead>\n  <tbody>\n    <tr>\n      <th>0</th>\n      <td>Asia Pacific</td>\n      <td>Azerbaijan</td>\n      <td>163</td>\n      <td>Countries &amp; Consumers</td>\n      <td>2014</td>\n      <td>Economy and Finance</td>\n      <td>1632</td>\n      <td>Total GDP</td>\n      <td>1634</td>\n      <td>no</td>\n      <td>...</td>\n      <td>1.013374e+05</td>\n      <td>1.055003e+05</td>\n      <td>1.098343e+05</td>\n      <td>1.143463e+05</td>\n      <td>1.190436e+05</td>\n      <td>1.239339e+05</td>\n      <td>1.290251e+05</td>\n      <td>1.343255e+05</td>\n      <td>1.398436e+05</td>\n      <td>1.455884e+05</td>\n    </tr>\n    <tr>\n      <th>1</th>\n      <td>Asia Pacific</td>\n      <td>China</td>\n      <td>195</td>\n      <td>Countries &amp; Consumers</td>\n      <td>2014</td>\n      <td>Economy and Finance</td>\n      <td>1632</td>\n      <td>Total GDP</td>\n      <td>1634</td>\n      <td>no</td>\n      <td>...</td>\n      <td>1.572255e+07</td>\n      <td>1.666598e+07</td>\n      <td>1.766592e+07</td>\n      <td>1.872588e+07</td>\n      <td>1.984943e+07</td>\n      <td>2.104040e+07</td>\n      <td>2.230282e+07</td>\n      <td>2.364099e+07</td>\n      <td>2.505945e+07</td>\n      <td>2.656302e+07</td>\n    </tr>\n    <tr>\n      <th>2</th>\n      <td>Asia Pacific</td>\n      <td>Hong Kong, China</td>\n      <td>259</td>\n      <td>Countries &amp; Consumers</td>\n      <td>2014</td>\n      <td>Economy and Finance</td>\n      <td>1632</td>\n      <td>Total GDP</td>\n      <td>1634</td>\n      <td>no</td>\n      <td>...</td>\n      <td>3.553615e+05</td>\n      <td>3.670885e+05</td>\n      <td>3.792024e+05</td>\n      <td>3.917161e+05</td>\n      <td>4.046427e+05</td>\n      <td>4.179959e+05</td>\n      <td>4.317898e+05</td>\n      <td>4.460389e+05</td>\n      <td>4.607581e+05</td>\n      <td>4.759632e+05</td>\n    </tr>\n    <tr>\n      <th>3</th>\n      <td>Asia Pacific</td>\n      <td>India</td>\n      <td>265</td>\n      <td>Countries &amp; Consumers</td>\n      <td>2014</td>\n      <td>Economy and Finance</td>\n      <td>1632</td>\n      <td>Total GDP</td>\n      <td>1634</td>\n      <td>no</td>\n      <td>...</td>\n      <td>3.208204e+06</td>\n      <td>3.426360e+06</td>\n      <td>3.659353e+06</td>\n      <td>3.908189e+06</td>\n      <td>4.173946e+06</td>\n      <td>4.457774e+06</td>\n      <td>4.760902e+06</td>\n      <td>5.084644e+06</td>\n      <td>5.430400e+06</td>\n      <td>5.799667e+06</td>\n    </tr>\n    <tr>\n      <th>4</th>\n      <td>Asia Pacific</td>\n      <td>Indonesia</td>\n      <td>263</td>\n      <td>Countries &amp; Consumers</td>\n      <td>2014</td>\n      <td>Economy and Finance</td>\n      <td>1632</td>\n      <td>Total GDP</td>\n      <td>1634</td>\n      <td>no</td>\n      <td>...</td>\n      <td>1.331538e+06</td>\n      <td>1.404773e+06</td>\n      <td>1.482036e+06</td>\n      <td>1.563548e+06</td>\n      <td>1.649543e+06</td>\n      <td>1.740267e+06</td>\n      <td>1.835982e+06</td>\n      <td>1.936961e+06</td>\n      <td>2.043494e+06</td>\n      <td>2.155886e+06</td>\n    </tr>\n    <tr>\n      <th>...</th>\n      <td>...</td>\n      <td>...</td>\n      <td>...</td>\n      <td>...</td>\n      <td>...</td>\n      <td>...</td>\n      <td>...</td>\n      <td>...</td>\n      <td>...</td>\n      <td>...</td>\n      <td>...</td>\n      <td>...</td>\n      <td>...</td>\n      <td>...</td>\n      <td>...</td>\n      <td>...</td>\n      <td>...</td>\n      <td>...</td>\n      <td>...</td>\n      <td>...</td>\n      <td>...</td>\n    </tr>\n    <tr>\n      <th>95</th>\n      <td>Asia Pacific</td>\n      <td>Malaysia</td>\n      <td>314</td>\n      <td>Countries &amp; Consumers</td>\n      <td>2014</td>\n      <td>Population</td>\n      <td>1552</td>\n      <td>Population: National Estimates at January 1st</td>\n      <td>1554</td>\n      <td>no</td>\n      <td>...</td>\n      <td>3.281230e+04</td>\n      <td>3.319369e+04</td>\n      <td>3.356975e+04</td>\n      <td>3.393934e+04</td>\n      <td>3.430138e+04</td>\n      <td>3.465506e+04</td>\n      <td>3.499987e+04</td>\n      <td>3.533529e+04</td>\n      <td>3.566077e+04</td>\n      <td>3.597589e+04</td>\n    </tr>\n    <tr>\n      <th>96</th>\n      <td>Asia Pacific</td>\n      <td>Pakistan</td>\n      <td>332</td>\n      <td>Countries &amp; Consumers</td>\n      <td>2014</td>\n      <td>Households and Homes</td>\n      <td>30448</td>\n      <td>Possession of Refrigerator</td>\n      <td>2508</td>\n      <td>yes</td>\n      <td>...</td>\n      <td>5.086145e+01</td>\n      <td>5.135169e+01</td>\n      <td>5.180021e+01</td>\n      <td>5.221010e+01</td>\n      <td>5.258472e+01</td>\n      <td>5.292723e+01</td>\n      <td>5.324029e+01</td>\n      <td>5.352646e+01</td>\n      <td>5.378805e+01</td>\n      <td>5.402717e+01</td>\n    </tr>\n    <tr>\n      <th>97</th>\n      <td>Asia Pacific</td>\n      <td>Pakistan</td>\n      <td>332</td>\n      <td>Countries &amp; Consumers</td>\n      <td>2014</td>\n      <td>Population</td>\n      <td>1552</td>\n      <td>Population: National Estimates at January 1st</td>\n      <td>1554</td>\n      <td>no</td>\n      <td>...</td>\n      <td>2.585444e+05</td>\n      <td>2.639318e+05</td>\n      <td>2.691555e+05</td>\n      <td>2.741900e+05</td>\n      <td>2.790153e+05</td>\n      <td>2.836214e+05</td>\n      <td>2.880067e+05</td>\n      <td>2.921704e+05</td>\n      <td>2.961157e+05</td>\n      <td>2.998443e+05</td>\n    </tr>\n    <tr>\n      <th>98</th>\n      <td>Asia Pacific</td>\n      <td>Philippines</td>\n      <td>331</td>\n      <td>Countries &amp; Consumers</td>\n      <td>2014</td>\n      <td>Households and Homes</td>\n      <td>30448</td>\n      <td>Possession of Refrigerator</td>\n      <td>2508</td>\n      <td>yes</td>\n      <td>...</td>\n      <td>4.959404e+01</td>\n      <td>5.012536e+01</td>\n      <td>5.062323e+01</td>\n      <td>5.108793e+01</td>\n      <td>5.152239e+01</td>\n      <td>5.192178e+01</td>\n      <td>5.229422e+01</td>\n      <td>5.264123e+01</td>\n      <td>5.296411e+01</td>\n      <td>5.326430e+01</td>\n    </tr>\n    <tr>\n      <th>99</th>\n      <td>Asia Pacific</td>\n      <td>Philippines</td>\n      <td>331</td>\n      <td>Countries &amp; Consumers</td>\n      <td>2014</td>\n      <td>Population</td>\n      <td>1552</td>\n      <td>Population: National Estimates at January 1st</td>\n      <td>1554</td>\n      <td>no</td>\n      <td>...</td>\n      <td>1.121598e+05</td>\n      <td>1.139256e+05</td>\n      <td>1.156956e+05</td>\n      <td>1.174621e+05</td>\n      <td>1.192190e+05</td>\n      <td>1.209638e+05</td>\n      <td>1.226955e+05</td>\n      <td>1.244125e+05</td>\n      <td>1.261134e+05</td>\n      <td>1.277972e+05</td>\n    </tr>\n  </tbody>\n</table>\n<p>100 rows × 72 columns</p>\n</div>"
     },
     "execution_count": 2,
     "metadata": {},
     "output_type": "execute_result"
    }
   ],
   "source": [
    "df.head(100)"
   ],
   "metadata": {
    "collapsed": false,
    "ExecuteTime": {
     "end_time": "2024-07-23T19:14:16.147976500Z",
     "start_time": "2024-07-23T19:14:16.015739200Z"
    }
   },
   "id": "d19f37330a44d4cf"
  },
  {
   "cell_type": "code",
   "execution_count": 3,
   "outputs": [],
   "source": [
    "df.fillna(0, inplace=True) # Filling Nan with 0"
   ],
   "metadata": {
    "collapsed": false,
    "ExecuteTime": {
     "end_time": "2024-07-23T19:17:27.094941100Z",
     "start_time": "2024-07-23T19:17:27.043944400Z"
    }
   },
   "id": "3bebe549be477067"
  },
  {
   "cell_type": "code",
   "execution_count": 5,
   "outputs": [
    {
     "name": "stdout",
     "output_type": "stream",
     "text": [
      "<class 'pandas.core.frame.DataFrame'>\n",
      "RangeIndex: 240 entries, 0 to 239\n",
      "Data columns (total 57 columns):\n",
      " #   Column       Non-Null Count  Dtype  \n",
      "---  ------       --------------  -----  \n",
      " 0   Region       240 non-null    object \n",
      " 1   Country      240 non-null    object \n",
      " 2   Subcategory  240 non-null    object \n",
      " 3   1977         240 non-null    float64\n",
      " 4   1978         240 non-null    float64\n",
      " 5   1979         240 non-null    float64\n",
      " 6   1980         240 non-null    float64\n",
      " 7   1981         240 non-null    float64\n",
      " 8   1982         240 non-null    float64\n",
      " 9   1983         240 non-null    float64\n",
      " 10  1984         240 non-null    float64\n",
      " 11  1985         240 non-null    float64\n",
      " 12  1986         240 non-null    float64\n",
      " 13  1987         240 non-null    float64\n",
      " 14  1988         240 non-null    float64\n",
      " 15  1989         240 non-null    float64\n",
      " 16  1990         240 non-null    float64\n",
      " 17  1991         240 non-null    float64\n",
      " 18  1992         240 non-null    float64\n",
      " 19  1993         240 non-null    float64\n",
      " 20  1994         240 non-null    float64\n",
      " 21  1995         240 non-null    float64\n",
      " 22  1996         240 non-null    float64\n",
      " 23  1997         240 non-null    float64\n",
      " 24  1998         240 non-null    float64\n",
      " 25  1999         240 non-null    float64\n",
      " 26  2000         240 non-null    float64\n",
      " 27  2001         240 non-null    float64\n",
      " 28  2002         240 non-null    float64\n",
      " 29  2003         240 non-null    float64\n",
      " 30  2004         240 non-null    float64\n",
      " 31  2005         240 non-null    float64\n",
      " 32  2006         240 non-null    float64\n",
      " 33  2007         240 non-null    float64\n",
      " 34  2008         240 non-null    float64\n",
      " 35  2009         240 non-null    float64\n",
      " 36  2010         240 non-null    float64\n",
      " 37  2011         240 non-null    float64\n",
      " 38  2012         240 non-null    float64\n",
      " 39  2013         240 non-null    float64\n",
      " 40  2014         240 non-null    float64\n",
      " 41  2015         240 non-null    float64\n",
      " 42  2016         240 non-null    float64\n",
      " 43  2017         240 non-null    float64\n",
      " 44  2018         240 non-null    float64\n",
      " 45  2019         240 non-null    float64\n",
      " 46  2020         240 non-null    float64\n",
      " 47  2021         240 non-null    float64\n",
      " 48  2022         240 non-null    float64\n",
      " 49  2023         240 non-null    float64\n",
      " 50  2024         240 non-null    float64\n",
      " 51  2025         240 non-null    float64\n",
      " 52  2026         240 non-null    float64\n",
      " 53  2027         240 non-null    float64\n",
      " 54  2028         240 non-null    float64\n",
      " 55  2029         240 non-null    float64\n",
      " 56  2030         240 non-null    float64\n",
      "dtypes: float64(54), object(3)\n",
      "memory usage: 107.0+ KB\n",
      "None\n"
     ]
    }
   ],
   "source": [
    "# List of column names to drop\n",
    "columns_to_drop = [\n",
    "    'CountryID', 'Industry', 'Edition', 'Category',\n",
    "    'ParentID', 'ProductID', 'Lowest Level', 'Modelled',\n",
    "    'Hierarchy Level', 'Data Type', 'DataTypeID', 'Unit',\n",
    "    'Unit Multiplier', 'Current/Constant', 'Currency Conversion'\n",
    "]\n",
    "\n",
    "\n",
    "# Drop the specified columns\n",
    "df_cleaned = df.drop(columns=columns_to_drop)\n",
    "\n",
    "# Print the cleaned DataFrame to check the result\n",
    "print(df_cleaned.info())"
   ],
   "metadata": {
    "collapsed": false,
    "ExecuteTime": {
     "end_time": "2024-07-23T19:19:51.753433700Z",
     "start_time": "2024-07-23T19:19:51.690433500Z"
    }
   },
   "id": "d951a4c7be8e4b1f"
  },
  {
   "cell_type": "code",
   "execution_count": 7,
   "outputs": [
    {
     "data": {
      "text/plain": "          Region           Country  \\\n0   Asia Pacific        Azerbaijan   \n1   Asia Pacific             China   \n2   Asia Pacific  Hong Kong, China   \n3   Asia Pacific             India   \n4   Asia Pacific         Indonesia   \n..           ...               ...   \n95  Asia Pacific          Malaysia   \n96  Asia Pacific          Pakistan   \n97  Asia Pacific          Pakistan   \n98  Asia Pacific       Philippines   \n99  Asia Pacific       Philippines   \n\n                                      Subcategory           1977  \\\n0                                       Total GDP       0.000000   \n1                                       Total GDP  324287.150500   \n2                                       Total GDP   44929.901880   \n3                                       Total GDP  254198.818700   \n4                                       Total GDP  138042.398200   \n..                                            ...            ...   \n95  Population: National Estimates at January 1st   12901.055000   \n96                     Possession of Refrigerator       0.303156   \n97  Population: National Estimates at January 1st   74923.251010   \n98                     Possession of Refrigerator       9.100000   \n99  Population: National Estimates at January 1st   43651.688000   \n\n             1978           1979           1980          1981           1982  \\\n0        0.000000       0.000000       0.000000       0.00000       0.000000   \n1   362228.747100  389758.131900  420588.000100  442458.57610  482722.306500   \n2    48704.013640   54353.679220   59973.849650   65604.79440   67561.785410   \n3   268179.753700  254770.766000  264008.754000  280313.93460  291728.318100   \n4   148809.705300  158184.716700  173813.366700  187030.13510  191230.832000   \n..            ...            ...            ...           ...            ...   \n95   13200.219000   13518.260000   13879.252000   14256.92200   14651.050000   \n96       0.344684       0.406976       0.516467       0.69982       0.978769   \n97   77130.604160   79437.208170   81841.515570   84339.44471   86921.305860   \n98      10.000000      11.100000      12.300000      13.70000      14.900000   \n99   44867.695000   46115.445000   47398.432000   48716.42200   50067.906000   \n\n             1983  ...          2021          2022          2023  \\\n0        0.000000  ...  1.013374e+05  1.055003e+05  1.098343e+05   \n1   535339.038000  ...  1.572255e+07  1.666598e+07  1.766592e+07   \n2    71561.443110  ...  3.553615e+05  3.670885e+05  3.792024e+05   \n3   314392.691100  ...  3.208204e+06  3.426360e+06  3.659353e+06   \n4   199249.140800  ...  1.331538e+06  1.404773e+06  1.482036e+06   \n..            ...  ...           ...           ...           ...   \n95   15048.201000  ...  3.281230e+04  3.319369e+04  3.356975e+04   \n96       1.406277  ...  5.086145e+01  5.135169e+01  5.180021e+01   \n97   89592.720350  ...  2.585444e+05  2.639318e+05  2.691555e+05   \n98      16.300000  ...  4.959404e+01  5.012536e+01  5.062323e+01   \n99   51453.251000  ...  1.121598e+05  1.139256e+05  1.156956e+05   \n\n            2024          2025          2026          2027          2028  \\\n0   1.143463e+05  1.190436e+05  1.239339e+05  1.290251e+05  1.343255e+05   \n1   1.872588e+07  1.984943e+07  2.104040e+07  2.230282e+07  2.364099e+07   \n2   3.917161e+05  4.046427e+05  4.179959e+05  4.317898e+05  4.460389e+05   \n3   3.908189e+06  4.173946e+06  4.457774e+06  4.760902e+06  5.084644e+06   \n4   1.563548e+06  1.649543e+06  1.740267e+06  1.835982e+06  1.936961e+06   \n..           ...           ...           ...           ...           ...   \n95  3.393934e+04  3.430138e+04  3.465506e+04  3.499987e+04  3.533529e+04   \n96  5.221010e+01  5.258472e+01  5.292723e+01  5.324029e+01  5.352646e+01   \n97  2.741900e+05  2.790153e+05  2.836214e+05  2.880067e+05  2.921704e+05   \n98  5.108793e+01  5.152239e+01  5.192178e+01  5.229422e+01  5.264123e+01   \n99  1.174621e+05  1.192190e+05  1.209638e+05  1.226955e+05  1.244125e+05   \n\n            2029          2030  \n0   1.398436e+05  1.455884e+05  \n1   2.505945e+07  2.656302e+07  \n2   4.607581e+05  4.759632e+05  \n3   5.430400e+06  5.799667e+06  \n4   2.043494e+06  2.155886e+06  \n..           ...           ...  \n95  3.566077e+04  3.597589e+04  \n96  5.378805e+01  5.402717e+01  \n97  2.961157e+05  2.998443e+05  \n98  5.296411e+01  5.326430e+01  \n99  1.261134e+05  1.277972e+05  \n\n[100 rows x 57 columns]",
      "text/html": "<div>\n<style scoped>\n    .dataframe tbody tr th:only-of-type {\n        vertical-align: middle;\n    }\n\n    .dataframe tbody tr th {\n        vertical-align: top;\n    }\n\n    .dataframe thead th {\n        text-align: right;\n    }\n</style>\n<table border=\"1\" class=\"dataframe\">\n  <thead>\n    <tr style=\"text-align: right;\">\n      <th></th>\n      <th>Region</th>\n      <th>Country</th>\n      <th>Subcategory</th>\n      <th>1977</th>\n      <th>1978</th>\n      <th>1979</th>\n      <th>1980</th>\n      <th>1981</th>\n      <th>1982</th>\n      <th>1983</th>\n      <th>...</th>\n      <th>2021</th>\n      <th>2022</th>\n      <th>2023</th>\n      <th>2024</th>\n      <th>2025</th>\n      <th>2026</th>\n      <th>2027</th>\n      <th>2028</th>\n      <th>2029</th>\n      <th>2030</th>\n    </tr>\n  </thead>\n  <tbody>\n    <tr>\n      <th>0</th>\n      <td>Asia Pacific</td>\n      <td>Azerbaijan</td>\n      <td>Total GDP</td>\n      <td>0.000000</td>\n      <td>0.000000</td>\n      <td>0.000000</td>\n      <td>0.000000</td>\n      <td>0.00000</td>\n      <td>0.000000</td>\n      <td>0.000000</td>\n      <td>...</td>\n      <td>1.013374e+05</td>\n      <td>1.055003e+05</td>\n      <td>1.098343e+05</td>\n      <td>1.143463e+05</td>\n      <td>1.190436e+05</td>\n      <td>1.239339e+05</td>\n      <td>1.290251e+05</td>\n      <td>1.343255e+05</td>\n      <td>1.398436e+05</td>\n      <td>1.455884e+05</td>\n    </tr>\n    <tr>\n      <th>1</th>\n      <td>Asia Pacific</td>\n      <td>China</td>\n      <td>Total GDP</td>\n      <td>324287.150500</td>\n      <td>362228.747100</td>\n      <td>389758.131900</td>\n      <td>420588.000100</td>\n      <td>442458.57610</td>\n      <td>482722.306500</td>\n      <td>535339.038000</td>\n      <td>...</td>\n      <td>1.572255e+07</td>\n      <td>1.666598e+07</td>\n      <td>1.766592e+07</td>\n      <td>1.872588e+07</td>\n      <td>1.984943e+07</td>\n      <td>2.104040e+07</td>\n      <td>2.230282e+07</td>\n      <td>2.364099e+07</td>\n      <td>2.505945e+07</td>\n      <td>2.656302e+07</td>\n    </tr>\n    <tr>\n      <th>2</th>\n      <td>Asia Pacific</td>\n      <td>Hong Kong, China</td>\n      <td>Total GDP</td>\n      <td>44929.901880</td>\n      <td>48704.013640</td>\n      <td>54353.679220</td>\n      <td>59973.849650</td>\n      <td>65604.79440</td>\n      <td>67561.785410</td>\n      <td>71561.443110</td>\n      <td>...</td>\n      <td>3.553615e+05</td>\n      <td>3.670885e+05</td>\n      <td>3.792024e+05</td>\n      <td>3.917161e+05</td>\n      <td>4.046427e+05</td>\n      <td>4.179959e+05</td>\n      <td>4.317898e+05</td>\n      <td>4.460389e+05</td>\n      <td>4.607581e+05</td>\n      <td>4.759632e+05</td>\n    </tr>\n    <tr>\n      <th>3</th>\n      <td>Asia Pacific</td>\n      <td>India</td>\n      <td>Total GDP</td>\n      <td>254198.818700</td>\n      <td>268179.753700</td>\n      <td>254770.766000</td>\n      <td>264008.754000</td>\n      <td>280313.93460</td>\n      <td>291728.318100</td>\n      <td>314392.691100</td>\n      <td>...</td>\n      <td>3.208204e+06</td>\n      <td>3.426360e+06</td>\n      <td>3.659353e+06</td>\n      <td>3.908189e+06</td>\n      <td>4.173946e+06</td>\n      <td>4.457774e+06</td>\n      <td>4.760902e+06</td>\n      <td>5.084644e+06</td>\n      <td>5.430400e+06</td>\n      <td>5.799667e+06</td>\n    </tr>\n    <tr>\n      <th>4</th>\n      <td>Asia Pacific</td>\n      <td>Indonesia</td>\n      <td>Total GDP</td>\n      <td>138042.398200</td>\n      <td>148809.705300</td>\n      <td>158184.716700</td>\n      <td>173813.366700</td>\n      <td>187030.13510</td>\n      <td>191230.832000</td>\n      <td>199249.140800</td>\n      <td>...</td>\n      <td>1.331538e+06</td>\n      <td>1.404773e+06</td>\n      <td>1.482036e+06</td>\n      <td>1.563548e+06</td>\n      <td>1.649543e+06</td>\n      <td>1.740267e+06</td>\n      <td>1.835982e+06</td>\n      <td>1.936961e+06</td>\n      <td>2.043494e+06</td>\n      <td>2.155886e+06</td>\n    </tr>\n    <tr>\n      <th>...</th>\n      <td>...</td>\n      <td>...</td>\n      <td>...</td>\n      <td>...</td>\n      <td>...</td>\n      <td>...</td>\n      <td>...</td>\n      <td>...</td>\n      <td>...</td>\n      <td>...</td>\n      <td>...</td>\n      <td>...</td>\n      <td>...</td>\n      <td>...</td>\n      <td>...</td>\n      <td>...</td>\n      <td>...</td>\n      <td>...</td>\n      <td>...</td>\n      <td>...</td>\n      <td>...</td>\n    </tr>\n    <tr>\n      <th>95</th>\n      <td>Asia Pacific</td>\n      <td>Malaysia</td>\n      <td>Population: National Estimates at January 1st</td>\n      <td>12901.055000</td>\n      <td>13200.219000</td>\n      <td>13518.260000</td>\n      <td>13879.252000</td>\n      <td>14256.92200</td>\n      <td>14651.050000</td>\n      <td>15048.201000</td>\n      <td>...</td>\n      <td>3.281230e+04</td>\n      <td>3.319369e+04</td>\n      <td>3.356975e+04</td>\n      <td>3.393934e+04</td>\n      <td>3.430138e+04</td>\n      <td>3.465506e+04</td>\n      <td>3.499987e+04</td>\n      <td>3.533529e+04</td>\n      <td>3.566077e+04</td>\n      <td>3.597589e+04</td>\n    </tr>\n    <tr>\n      <th>96</th>\n      <td>Asia Pacific</td>\n      <td>Pakistan</td>\n      <td>Possession of Refrigerator</td>\n      <td>0.303156</td>\n      <td>0.344684</td>\n      <td>0.406976</td>\n      <td>0.516467</td>\n      <td>0.69982</td>\n      <td>0.978769</td>\n      <td>1.406277</td>\n      <td>...</td>\n      <td>5.086145e+01</td>\n      <td>5.135169e+01</td>\n      <td>5.180021e+01</td>\n      <td>5.221010e+01</td>\n      <td>5.258472e+01</td>\n      <td>5.292723e+01</td>\n      <td>5.324029e+01</td>\n      <td>5.352646e+01</td>\n      <td>5.378805e+01</td>\n      <td>5.402717e+01</td>\n    </tr>\n    <tr>\n      <th>97</th>\n      <td>Asia Pacific</td>\n      <td>Pakistan</td>\n      <td>Population: National Estimates at January 1st</td>\n      <td>74923.251010</td>\n      <td>77130.604160</td>\n      <td>79437.208170</td>\n      <td>81841.515570</td>\n      <td>84339.44471</td>\n      <td>86921.305860</td>\n      <td>89592.720350</td>\n      <td>...</td>\n      <td>2.585444e+05</td>\n      <td>2.639318e+05</td>\n      <td>2.691555e+05</td>\n      <td>2.741900e+05</td>\n      <td>2.790153e+05</td>\n      <td>2.836214e+05</td>\n      <td>2.880067e+05</td>\n      <td>2.921704e+05</td>\n      <td>2.961157e+05</td>\n      <td>2.998443e+05</td>\n    </tr>\n    <tr>\n      <th>98</th>\n      <td>Asia Pacific</td>\n      <td>Philippines</td>\n      <td>Possession of Refrigerator</td>\n      <td>9.100000</td>\n      <td>10.000000</td>\n      <td>11.100000</td>\n      <td>12.300000</td>\n      <td>13.70000</td>\n      <td>14.900000</td>\n      <td>16.300000</td>\n      <td>...</td>\n      <td>4.959404e+01</td>\n      <td>5.012536e+01</td>\n      <td>5.062323e+01</td>\n      <td>5.108793e+01</td>\n      <td>5.152239e+01</td>\n      <td>5.192178e+01</td>\n      <td>5.229422e+01</td>\n      <td>5.264123e+01</td>\n      <td>5.296411e+01</td>\n      <td>5.326430e+01</td>\n    </tr>\n    <tr>\n      <th>99</th>\n      <td>Asia Pacific</td>\n      <td>Philippines</td>\n      <td>Population: National Estimates at January 1st</td>\n      <td>43651.688000</td>\n      <td>44867.695000</td>\n      <td>46115.445000</td>\n      <td>47398.432000</td>\n      <td>48716.42200</td>\n      <td>50067.906000</td>\n      <td>51453.251000</td>\n      <td>...</td>\n      <td>1.121598e+05</td>\n      <td>1.139256e+05</td>\n      <td>1.156956e+05</td>\n      <td>1.174621e+05</td>\n      <td>1.192190e+05</td>\n      <td>1.209638e+05</td>\n      <td>1.226955e+05</td>\n      <td>1.244125e+05</td>\n      <td>1.261134e+05</td>\n      <td>1.277972e+05</td>\n    </tr>\n  </tbody>\n</table>\n<p>100 rows × 57 columns</p>\n</div>"
     },
     "execution_count": 7,
     "metadata": {},
     "output_type": "execute_result"
    }
   ],
   "source": [
    "df_cleaned.head(100)"
   ],
   "metadata": {
    "collapsed": false,
    "ExecuteTime": {
     "end_time": "2024-07-23T19:21:46.658248900Z",
     "start_time": "2024-07-23T19:21:46.531240100Z"
    }
   },
   "id": "75a7345bf5ee97c0"
  },
  {
   "cell_type": "code",
   "execution_count": 8,
   "outputs": [
    {
     "data": {
      "text/plain": "             Region           Country  Subcategory  Year         Value\n0      Asia Pacific        Azerbaijan    Total GDP  1977       0.00000\n1      Asia Pacific             China    Total GDP  1977  324287.15050\n2      Asia Pacific  Hong Kong, China    Total GDP  1977   44929.90188\n3      Asia Pacific             India    Total GDP  1977  254198.81870\n4      Asia Pacific         Indonesia    Total GDP  1977  138042.39820\n..              ...               ...          ...   ...           ...\n995  Eastern Europe           Ukraine    Total GDP  1981       0.00000\n996   Latin America         Argentina    Total GDP  1981  261162.58270\n997   Latin America           Bolivia    Total GDP  1981   12167.61069\n998   Latin America            Brazil    Total GDP  1981  949264.07140\n999   Latin America             Chile    Total GDP  1981   68216.49736\n\n[1000 rows x 5 columns]",
      "text/html": "<div>\n<style scoped>\n    .dataframe tbody tr th:only-of-type {\n        vertical-align: middle;\n    }\n\n    .dataframe tbody tr th {\n        vertical-align: top;\n    }\n\n    .dataframe thead th {\n        text-align: right;\n    }\n</style>\n<table border=\"1\" class=\"dataframe\">\n  <thead>\n    <tr style=\"text-align: right;\">\n      <th></th>\n      <th>Region</th>\n      <th>Country</th>\n      <th>Subcategory</th>\n      <th>Year</th>\n      <th>Value</th>\n    </tr>\n  </thead>\n  <tbody>\n    <tr>\n      <th>0</th>\n      <td>Asia Pacific</td>\n      <td>Azerbaijan</td>\n      <td>Total GDP</td>\n      <td>1977</td>\n      <td>0.00000</td>\n    </tr>\n    <tr>\n      <th>1</th>\n      <td>Asia Pacific</td>\n      <td>China</td>\n      <td>Total GDP</td>\n      <td>1977</td>\n      <td>324287.15050</td>\n    </tr>\n    <tr>\n      <th>2</th>\n      <td>Asia Pacific</td>\n      <td>Hong Kong, China</td>\n      <td>Total GDP</td>\n      <td>1977</td>\n      <td>44929.90188</td>\n    </tr>\n    <tr>\n      <th>3</th>\n      <td>Asia Pacific</td>\n      <td>India</td>\n      <td>Total GDP</td>\n      <td>1977</td>\n      <td>254198.81870</td>\n    </tr>\n    <tr>\n      <th>4</th>\n      <td>Asia Pacific</td>\n      <td>Indonesia</td>\n      <td>Total GDP</td>\n      <td>1977</td>\n      <td>138042.39820</td>\n    </tr>\n    <tr>\n      <th>...</th>\n      <td>...</td>\n      <td>...</td>\n      <td>...</td>\n      <td>...</td>\n      <td>...</td>\n    </tr>\n    <tr>\n      <th>995</th>\n      <td>Eastern Europe</td>\n      <td>Ukraine</td>\n      <td>Total GDP</td>\n      <td>1981</td>\n      <td>0.00000</td>\n    </tr>\n    <tr>\n      <th>996</th>\n      <td>Latin America</td>\n      <td>Argentina</td>\n      <td>Total GDP</td>\n      <td>1981</td>\n      <td>261162.58270</td>\n    </tr>\n    <tr>\n      <th>997</th>\n      <td>Latin America</td>\n      <td>Bolivia</td>\n      <td>Total GDP</td>\n      <td>1981</td>\n      <td>12167.61069</td>\n    </tr>\n    <tr>\n      <th>998</th>\n      <td>Latin America</td>\n      <td>Brazil</td>\n      <td>Total GDP</td>\n      <td>1981</td>\n      <td>949264.07140</td>\n    </tr>\n    <tr>\n      <th>999</th>\n      <td>Latin America</td>\n      <td>Chile</td>\n      <td>Total GDP</td>\n      <td>1981</td>\n      <td>68216.49736</td>\n    </tr>\n  </tbody>\n</table>\n<p>1000 rows × 5 columns</p>\n</div>"
     },
     "execution_count": 8,
     "metadata": {},
     "output_type": "execute_result"
    }
   ],
   "source": [
    "# Melt the DataFrame\n",
    "df_melted = df_cleaned.melt(id_vars=['Region', 'Country', 'Subcategory'], var_name='Year', value_name='Value')\n",
    "\n",
    "# Display the melted DataFrame\n",
    "df_melted.head(1000)\n"
   ],
   "metadata": {
    "collapsed": false,
    "ExecuteTime": {
     "end_time": "2024-07-23T19:22:07.635632400Z",
     "start_time": "2024-07-23T19:22:07.567629100Z"
    }
   },
   "id": "3629db6da5666868"
  },
  {
   "cell_type": "code",
   "execution_count": 26,
   "outputs": [
    {
     "name": "stdout",
     "output_type": "stream",
     "text": [
      "Related Subcategories:\n",
      "['  Possession of Refrigerator']\n"
     ]
    }
   ],
   "source": [
    "# Filter for 'Possession of Refrigerator' and check if the DataFrame is empty\n",
    "# Filter for subcategories related to 'Possession of Refrigerator'\n",
    "related_subcategories = df_melted[df_melted['Subcategory'].str.contains('Refrigerator', na=False)]\n",
    "\n",
    "# Display the unique related subcategories\n",
    "print(\"Related Subcategories:\")\n",
    "print(related_subcategories['Subcategory'].unique())"
   ],
   "metadata": {
    "collapsed": false,
    "ExecuteTime": {
     "end_time": "2024-07-23T20:09:23.577469700Z",
     "start_time": "2024-07-23T20:09:23.453461800Z"
    }
   },
   "id": "8e70d30a0d8b6ba6"
  },
  {
   "cell_type": "code",
   "execution_count": 32,
   "outputs": [
    {
     "data": {
      "text/plain": "          Region     Country  Year           GDP    Population  \\\n0   Asia Pacific  Azerbaijan  1977  0.000000e+00  5.828300e+06   \n1   Asia Pacific  Azerbaijan  1978  0.000000e+00  5.924000e+06   \n2   Asia Pacific  Azerbaijan  1979  0.000000e+00  6.028300e+06   \n3   Asia Pacific  Azerbaijan  1980  0.000000e+00  6.114300e+06   \n4   Asia Pacific  Azerbaijan  1981  0.000000e+00  6.206700e+06   \n..           ...         ...   ...           ...           ...   \n95  Asia Pacific       China  2018  1.317462e+13  1.383697e+09   \n96  Asia Pacific       China  2019  1.399191e+13  1.388452e+09   \n97  Asia Pacific       China  2020  1.483287e+13  1.392714e+09   \n98  Asia Pacific       China  2021  1.572255e+13  1.396472e+09   \n99  Asia Pacific       China  2022  1.666598e+13  1.399727e+09   \n\n    Refrigerator Possession  \n0                 58.294193  \n1                 62.215720  \n2                 65.496627  \n3                 68.241566  \n4                 70.538093  \n..                      ...  \n95                92.448408  \n96                93.069701  \n97                93.563887  \n98                93.941997  \n99                94.220545  \n\n[100 rows x 6 columns]",
      "text/html": "<div>\n<style scoped>\n    .dataframe tbody tr th:only-of-type {\n        vertical-align: middle;\n    }\n\n    .dataframe tbody tr th {\n        vertical-align: top;\n    }\n\n    .dataframe thead th {\n        text-align: right;\n    }\n</style>\n<table border=\"1\" class=\"dataframe\">\n  <thead>\n    <tr style=\"text-align: right;\">\n      <th></th>\n      <th>Region</th>\n      <th>Country</th>\n      <th>Year</th>\n      <th>GDP</th>\n      <th>Population</th>\n      <th>Refrigerator Possession</th>\n    </tr>\n  </thead>\n  <tbody>\n    <tr>\n      <th>0</th>\n      <td>Asia Pacific</td>\n      <td>Azerbaijan</td>\n      <td>1977</td>\n      <td>0.000000e+00</td>\n      <td>5.828300e+06</td>\n      <td>58.294193</td>\n    </tr>\n    <tr>\n      <th>1</th>\n      <td>Asia Pacific</td>\n      <td>Azerbaijan</td>\n      <td>1978</td>\n      <td>0.000000e+00</td>\n      <td>5.924000e+06</td>\n      <td>62.215720</td>\n    </tr>\n    <tr>\n      <th>2</th>\n      <td>Asia Pacific</td>\n      <td>Azerbaijan</td>\n      <td>1979</td>\n      <td>0.000000e+00</td>\n      <td>6.028300e+06</td>\n      <td>65.496627</td>\n    </tr>\n    <tr>\n      <th>3</th>\n      <td>Asia Pacific</td>\n      <td>Azerbaijan</td>\n      <td>1980</td>\n      <td>0.000000e+00</td>\n      <td>6.114300e+06</td>\n      <td>68.241566</td>\n    </tr>\n    <tr>\n      <th>4</th>\n      <td>Asia Pacific</td>\n      <td>Azerbaijan</td>\n      <td>1981</td>\n      <td>0.000000e+00</td>\n      <td>6.206700e+06</td>\n      <td>70.538093</td>\n    </tr>\n    <tr>\n      <th>...</th>\n      <td>...</td>\n      <td>...</td>\n      <td>...</td>\n      <td>...</td>\n      <td>...</td>\n      <td>...</td>\n    </tr>\n    <tr>\n      <th>95</th>\n      <td>Asia Pacific</td>\n      <td>China</td>\n      <td>2018</td>\n      <td>1.317462e+13</td>\n      <td>1.383697e+09</td>\n      <td>92.448408</td>\n    </tr>\n    <tr>\n      <th>96</th>\n      <td>Asia Pacific</td>\n      <td>China</td>\n      <td>2019</td>\n      <td>1.399191e+13</td>\n      <td>1.388452e+09</td>\n      <td>93.069701</td>\n    </tr>\n    <tr>\n      <th>97</th>\n      <td>Asia Pacific</td>\n      <td>China</td>\n      <td>2020</td>\n      <td>1.483287e+13</td>\n      <td>1.392714e+09</td>\n      <td>93.563887</td>\n    </tr>\n    <tr>\n      <th>98</th>\n      <td>Asia Pacific</td>\n      <td>China</td>\n      <td>2021</td>\n      <td>1.572255e+13</td>\n      <td>1.396472e+09</td>\n      <td>93.941997</td>\n    </tr>\n    <tr>\n      <th>99</th>\n      <td>Asia Pacific</td>\n      <td>China</td>\n      <td>2022</td>\n      <td>1.666598e+13</td>\n      <td>1.399727e+09</td>\n      <td>94.220545</td>\n    </tr>\n  </tbody>\n</table>\n<p>100 rows × 6 columns</p>\n</div>"
     },
     "execution_count": 32,
     "metadata": {},
     "output_type": "execute_result"
    }
   ],
   "source": [
    "import pandas as pd\n",
    "\n",
    "# Assuming df_melted is already defined and has necessary columns\n",
    "# Separate the data by the new subcategories\n",
    "gdp_df = df_melted[df_melted['Subcategory'] == '  Total GDP']\n",
    "population_df = df_melted[df_melted['Subcategory'] == 'Population: National Estimates at January 1st']\n",
    "refrigerator_df = df_melted[df_melted['Subcategory'] == '  Possession of Refrigerator']\n",
    "\n",
    "# Group by 'Region', 'Country', 'Year' and sum the values\n",
    "gdp_sums = gdp_df.groupby(['Region', 'Country', 'Year'])['Value'].sum().reset_index()\n",
    "population_sums = population_df.groupby(['Region', 'Country', 'Year'])['Value'].sum().reset_index()\n",
    "refrigerator_sums = refrigerator_df.groupby(['Region', 'Country', 'Year'])['Value'].sum().reset_index()\n",
    "\n",
    "# Rename columns for clarity\n",
    "gdp_sums.rename(columns={'Value': 'GDP'}, inplace=True)\n",
    "population_sums.rename(columns={'Value': 'Population'}, inplace=True)\n",
    "refrigerator_sums.rename(columns={'Value': 'Refrigerator Possession'}, inplace=True)\n",
    "\n",
    "\n",
    "\n",
    "# Merge the results on 'Region', 'Country', 'Year'\n",
    "merged_df = pd.merge(gdp_sums, population_sums, on=['Region', 'Country', 'Year'], how='outer')\n",
    "merged_df = pd.merge(merged_df, refrigerator_sums, on=['Region', 'Country', 'Year'], how='outer')\n",
    "\n",
    "\n",
    "# Create the formatted column if needed\n",
    "merged_df['Formatted'] = merged_df.apply(\n",
    "    lambda row: f\"{row['Region']}-{row['Country']}-{row['Year']}-{row.get('GDP', 0)}-{row.get('Population', 0)}-{row.get('Refrigerator Possession', 0)}\",\n",
    "    axis=1\n",
    ")\n",
    "\n",
    "#Formatting to Unit\n",
    "merged_df['Population']=merged_df['Population']*1000 \n",
    "merged_df['GDP']=merged_df['GDP']*1000000\n",
    "\n",
    "# Drop the 'Formatted' column if it's not needed in the final output\n",
    "final_df = merged_df.drop(columns=['Formatted'])\n",
    "\n",
    "# Print the first 100 rows of the final DataFrame to verify\n",
    "final_df.head(100)\n",
    "\n",
    "# Optional: Save the final DataFrame to a CSV file\n",
    "# final_df.to_csv('final_table.csv', index=False)\n"
   ],
   "metadata": {
    "collapsed": false,
    "ExecuteTime": {
     "end_time": "2024-07-23T20:16:00.421174300Z",
     "start_time": "2024-07-23T20:15:59.939142300Z"
    }
   },
   "id": "e376e60cd7d2b092"
  },
  {
   "cell_type": "code",
   "execution_count": 33,
   "outputs": [],
   "source": [
    "# Saving Dataframe to file\n",
    "final_df.to_csv('dataframe2.csv', index=False)"
   ],
   "metadata": {
    "collapsed": false,
    "ExecuteTime": {
     "end_time": "2024-07-23T20:25:58.271767200Z",
     "start_time": "2024-07-23T20:25:58.199057900Z"
    }
   },
   "id": "d3bc61816f9148e5"
  }
 ],
 "metadata": {
  "kernelspec": {
   "display_name": "Python 3",
   "language": "python",
   "name": "python3"
  },
  "language_info": {
   "codemirror_mode": {
    "name": "ipython",
    "version": 2
   },
   "file_extension": ".py",
   "mimetype": "text/x-python",
   "name": "python",
   "nbconvert_exporter": "python",
   "pygments_lexer": "ipython2",
   "version": "2.7.6"
  }
 },
 "nbformat": 4,
 "nbformat_minor": 5
}
