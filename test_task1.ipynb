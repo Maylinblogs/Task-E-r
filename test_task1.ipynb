{
 "cells": [
  {
   "cell_type": "markdown",
   "source": [
    "Test Task 1"
   ],
   "metadata": {
    "collapsed": false
   },
   "id": "81141608387e8895"
  },
  {
   "cell_type": "code",
   "execution_count": 1,
   "outputs": [],
   "source": [
    "import pandas as pd # Importing pandas"
   ],
   "metadata": {
    "collapsed": false,
    "ExecuteTime": {
     "start_time": "2024-07-23T12:02:19.911379400Z"
    }
   },
   "id": "initial_id"
  },
  {
   "cell_type": "code",
   "execution_count": 4,
   "outputs": [],
   "source": [
    "# Importing file, creating dataframe\n",
    "file_path = 'ice.cream.data.csv'  \n",
    "df = pd.read_csv(file_path)"
   ],
   "metadata": {
    "collapsed": false,
    "ExecuteTime": {
     "end_time": "2024-07-23T12:04:38.573641900Z",
     "start_time": "2024-07-23T12:04:38.512638100Z"
    }
   },
   "id": "2b946ce89b474b5e"
  },
  {
   "cell_type": "code",
   "execution_count": 21,
   "outputs": [
    {
     "data": {
      "text/plain": "          Region           Country  CountryID       Industry  Edition  \\\n0   Asia Pacific        Azerbaijan        163  Packaged Food     2015   \n1   Asia Pacific        Azerbaijan        163  Packaged Food     2015   \n2   Asia Pacific        Azerbaijan        163  Packaged Food     2015   \n3   Asia Pacific        Azerbaijan        163  Packaged Food     2015   \n4   Asia Pacific        Azerbaijan        163  Packaged Food     2015   \n5   Asia Pacific             China        195  Packaged Food     2015   \n6   Asia Pacific             China        195  Packaged Food     2015   \n7   Asia Pacific             China        195  Packaged Food     2015   \n8   Asia Pacific             China        195  Packaged Food     2015   \n9   Asia Pacific             China        195  Packaged Food     2015   \n10  Asia Pacific  Hong Kong, China        259  Packaged Food     2015   \n11  Asia Pacific  Hong Kong, China        259  Packaged Food     2015   \n12  Asia Pacific  Hong Kong, China        259  Packaged Food     2015   \n13  Asia Pacific  Hong Kong, China        259  Packaged Food     2015   \n14  Asia Pacific  Hong Kong, China        259  Packaged Food     2015   \n15  Asia Pacific             India        265  Packaged Food     2015   \n16  Asia Pacific             India        265  Packaged Food     2015   \n17  Asia Pacific             India        265  Packaged Food     2015   \n18  Asia Pacific             India        265  Packaged Food     2015   \n19  Asia Pacific             India        265  Packaged Food     2015   \n20  Asia Pacific         Indonesia        263  Packaged Food     2015   \n21  Asia Pacific         Indonesia        263  Packaged Food     2015   \n22  Asia Pacific         Indonesia        263  Packaged Food     2015   \n23  Asia Pacific         Indonesia        263  Packaged Food     2015   \n24  Asia Pacific         Indonesia        263  Packaged Food     2015   \n25  Asia Pacific             Japan        276  Packaged Food     2015   \n26  Asia Pacific             Japan        276  Packaged Food     2015   \n27  Asia Pacific             Japan        276  Packaged Food     2015   \n28  Asia Pacific             Japan        276  Packaged Food     2015   \n29  Asia Pacific             Japan        276  Packaged Food     2015   \n30  Asia Pacific        Kazakhstan        279  Packaged Food     2015   \n31  Asia Pacific        Kazakhstan        279  Packaged Food     2015   \n32  Asia Pacific        Kazakhstan        279  Packaged Food     2015   \n33  Asia Pacific        Kazakhstan        279  Packaged Food     2015   \n34  Asia Pacific        Kazakhstan        279  Packaged Food     2015   \n35  Asia Pacific          Malaysia        314  Packaged Food     2015   \n36  Asia Pacific          Malaysia        314  Packaged Food     2015   \n37  Asia Pacific          Malaysia        314  Packaged Food     2015   \n38  Asia Pacific          Malaysia        314  Packaged Food     2015   \n39  Asia Pacific          Malaysia        314  Packaged Food     2015   \n40  Asia Pacific          Pakistan        332  Packaged Food     2015   \n41  Asia Pacific          Pakistan        332  Packaged Food     2015   \n42  Asia Pacific          Pakistan        332  Packaged Food     2015   \n43  Asia Pacific          Pakistan        332  Packaged Food     2015   \n44  Asia Pacific          Pakistan        332  Packaged Food     2015   \n45  Asia Pacific       Philippines        331  Packaged Food     2015   \n46  Asia Pacific       Philippines        331  Packaged Food     2015   \n47  Asia Pacific       Philippines        331  Packaged Food     2015   \n48  Asia Pacific       Philippines        331  Packaged Food     2015   \n49  Asia Pacific       Philippines        331  Packaged Food     2015   \n\n     Category  ParentID  Subcategory  ProductID Lowest Level  ...  \\\n0   Ice Cream    160660    Ice Cream     160660           no  ...   \n1   Ice Cream    160660    Ice Cream     160660           no  ...   \n2   Ice Cream    160660    Ice Cream     160660           no  ...   \n3   Ice Cream    160660    Ice Cream     160660           no  ...   \n4   Ice Cream    160660    Ice Cream     160660           no  ...   \n5   Ice Cream    160660    Ice Cream     160660           no  ...   \n6   Ice Cream    160660    Ice Cream     160660           no  ...   \n7   Ice Cream    160660    Ice Cream     160660           no  ...   \n8   Ice Cream    160660    Ice Cream     160660           no  ...   \n9   Ice Cream    160660    Ice Cream     160660           no  ...   \n10  Ice Cream    160660    Ice Cream     160660           no  ...   \n11  Ice Cream    160660    Ice Cream     160660           no  ...   \n12  Ice Cream    160660    Ice Cream     160660           no  ...   \n13  Ice Cream    160660    Ice Cream     160660           no  ...   \n14  Ice Cream    160660    Ice Cream     160660           no  ...   \n15  Ice Cream    160660    Ice Cream     160660           no  ...   \n16  Ice Cream    160660    Ice Cream     160660           no  ...   \n17  Ice Cream    160660    Ice Cream     160660           no  ...   \n18  Ice Cream    160660    Ice Cream     160660           no  ...   \n19  Ice Cream    160660    Ice Cream     160660           no  ...   \n20  Ice Cream    160660    Ice Cream     160660           no  ...   \n21  Ice Cream    160660    Ice Cream     160660           no  ...   \n22  Ice Cream    160660    Ice Cream     160660           no  ...   \n23  Ice Cream    160660    Ice Cream     160660           no  ...   \n24  Ice Cream    160660    Ice Cream     160660           no  ...   \n25  Ice Cream    160660    Ice Cream     160660           no  ...   \n26  Ice Cream    160660    Ice Cream     160660           no  ...   \n27  Ice Cream    160660    Ice Cream     160660           no  ...   \n28  Ice Cream    160660    Ice Cream     160660           no  ...   \n29  Ice Cream    160660    Ice Cream     160660           no  ...   \n30  Ice Cream    160660    Ice Cream     160660           no  ...   \n31  Ice Cream    160660    Ice Cream     160660           no  ...   \n32  Ice Cream    160660    Ice Cream     160660           no  ...   \n33  Ice Cream    160660    Ice Cream     160660           no  ...   \n34  Ice Cream    160660    Ice Cream     160660           no  ...   \n35  Ice Cream    160660    Ice Cream     160660           no  ...   \n36  Ice Cream    160660    Ice Cream     160660           no  ...   \n37  Ice Cream    160660    Ice Cream     160660           no  ...   \n38  Ice Cream    160660    Ice Cream     160660           no  ...   \n39  Ice Cream    160660    Ice Cream     160660           no  ...   \n40  Ice Cream    160660    Ice Cream     160660           no  ...   \n41  Ice Cream    160660    Ice Cream     160660           no  ...   \n42  Ice Cream    160660    Ice Cream     160660           no  ...   \n43  Ice Cream    160660    Ice Cream     160660           no  ...   \n44  Ice Cream    160660    Ice Cream     160660           no  ...   \n45  Ice Cream    160660    Ice Cream     160660           no  ...   \n46  Ice Cream    160660    Ice Cream     160660           no  ...   \n47  Ice Cream    160660    Ice Cream     160660           no  ...   \n48  Ice Cream    160660    Ice Cream     160660           no  ...   \n49  Ice Cream    160660    Ice Cream     160660           no  ...   \n\n           2010         2011         2012         2013         2014  \\\n0           NaN    29.238692    30.340307    31.797428    33.885975   \n1     21.016289    21.442719    22.242699    23.292057    24.805161   \n2     31.683196    32.468827    33.824007    35.596403    38.052311   \n3     24.040194    24.672854    25.726400    27.091032    28.971497   \n4           NaN   291.810762   322.067461   343.112059   353.900998   \n5   2847.082677  2984.165172  2905.342026  2933.889151  3005.509439   \n6   2202.080369  2307.703475  2246.740213  2269.596406  2326.098048   \n7   2851.706501  2989.015564  2910.410685  2939.160557  3010.965344   \n8   2206.704193  2312.553867  2251.808872  2274.867811  2331.553952   \n9   5260.920909  5477.981680  5497.833501  5617.095845  5867.056832   \n10    11.735992    11.932907    12.210675    12.450154    12.641214   \n11     8.386739     8.527428     8.724715     8.894911     9.030801   \n12    13.513880    13.736490    14.046200    14.317767    14.536576   \n13    10.164627    10.331012    10.560240    10.762525    10.926163   \n14   132.133712   129.494363   128.871830   128.976896   131.457344   \n15   147.723317   167.806372   188.176508   209.285691   228.808568   \n16   106.579191   120.990969   135.570580   150.655134   164.599516   \n17   173.337678   197.378584   221.609560   246.995402   271.264274   \n18   132.193552   150.563181   169.003633   188.364845   207.055221   \n19   473.462595   529.704887   589.819353   636.378891   674.399638   \n20    62.636900    67.254931    72.899911    80.133151    87.875326   \n21    44.838271    48.079850    52.103669    57.391889    62.959307   \n22   122.529450   132.816076   144.387978   157.777514   171.867759   \n23   104.730821   113.640995   123.591736   135.036251   146.951740   \n24   231.512662   253.255853   284.205421   316.019189   351.049602   \n25   760.753703   747.166284   762.086265   780.622448   788.369334   \n26   564.586726   556.650339   567.418397   580.949711   586.517873   \n27   911.028537   892.750525   906.061199   923.321747   930.079898   \n28   714.861560   702.234579   711.393331   723.649010   728.228437   \n29  5442.660651  5441.094277  5552.782946  5727.818054  5804.042536   \n30    37.727510    38.832398    39.865995    36.085287    35.044612   \n31    26.664037    27.455125    28.194966    25.520771    24.799575   \n32    39.921224    41.084465    42.170761    38.167287    37.170334   \n33    28.857751    29.707192    30.499731    27.602771    26.925297   \n34   250.182016   262.471442   280.933033   264.409199   307.440988   \n35    44.921704    46.876998    48.977609    50.734420    52.435975   \n36    32.747725    34.196113    35.722760    37.011909    38.259202   \n37    54.772210    57.076780    59.572799    61.686358    63.784701   \n38    42.598231    44.395895    46.317951    47.963847    49.607928   \n39   171.822704   174.858320   180.886580   184.251912   186.231264   \n40    45.840098    47.600689    49.412996    51.174674    53.721264   \n41    32.660785    33.916959    35.210499    36.468666    38.286832   \n42    46.502287    48.278079    50.103947    51.878075    54.435277   \n43    33.322975    34.594348    35.901450    37.172068    39.000845   \n44   116.289868   113.296134   113.612517   116.372095   118.518427   \n45    61.610826    64.348298    67.361856    68.690673    70.013877   \n46    43.851666    45.770912    47.877245    48.804834    49.730590   \n47    65.910077    68.702309    71.775187    73.172298    74.568962   \n48    48.132237    50.105924    52.271273    53.266866    54.265809   \n49   221.410434   220.417529   225.578674   228.776176   228.660532   \n\n           2015         2016         2017         2018         2019  \n0     35.270988    36.555240    37.919347    39.441743    41.215181  \n1     25.817418    26.756105    27.743523    28.852805    30.145005  \n2     39.834793    41.564929    43.443030    45.547622    47.999423  \n3     30.381223    31.765794    33.267206    34.958683    36.929247  \n4    355.194703   360.004716   368.686758   380.552781   395.036649  \n5   3069.339071  3126.563945  3189.666130  3253.885297  3307.052387  \n6   2376.110183  2420.433170  2468.486874  2516.706245  2555.051125  \n7   3074.958653  3132.324016  3195.541403  3259.848699  3313.075423  \n8   2381.729765  2426.193241  2474.362147  2522.669647  2561.074161  \n9   6073.451814  6274.253181  6495.483566  6727.898391  6949.242307  \n10    12.780121    12.886249    13.016686    13.137946    13.248875  \n11     9.129246     9.204151     9.296824     9.383251     9.462377  \n12    14.700598    14.830255    14.982566    15.123983    15.253290  \n13    11.049723    11.148157    11.262704    11.369287    11.466792  \n14   133.265490   134.767087   136.514965   138.171706   139.728412  \n15   251.355624   277.106759   305.551444   336.238992   369.712941  \n16   180.757982   199.172548   219.497995   241.419946   265.314068  \n17   298.976558   330.317250   364.788180   401.970448   442.443980  \n18   228.378916   252.383039   278.734731   307.151402   338.045107  \n19   728.829952   789.192043   855.623025   928.342829  1004.756340  \n20    96.843633   107.047538   117.816580   129.354289   141.840976  \n21    69.360612    76.606776    84.238320    92.402072   101.227384  \n22   187.329878   204.127152   221.532473   239.690937   259.008678  \n23   159.846857   173.686390   187.954213   202.738720   218.395085  \n24   391.578979   437.834923   487.867303   542.011514   601.406060  \n25   793.583466   797.637837   800.683982   803.229852   805.632238  \n26   590.265597   593.224610   595.420936   597.263150   599.034448  \n27   934.467739   937.845428   940.365190   942.623133   944.850351  \n28   731.149870   733.432200   735.102144   736.656431   738.252561  \n29  5889.242726  5956.158684  6008.481322  6053.865154  6096.725364  \n30    35.160026    35.873830    36.959643    38.203863    39.614533  \n31    24.889180    25.398831    26.170010    27.052673    28.051600  \n32    37.329682    38.073643    39.191354    40.462355    41.899675  \n33    27.058835    27.598644    28.401721    29.311165    30.336742  \n34   306.368861   313.896251   326.280140   339.909184   354.948675  \n35    54.110677    55.879486    57.732043    59.623774    61.545029  \n36    39.468858    40.728645    42.052589    43.409840    44.788753  \n37    65.889427    68.124594    70.483305    72.922950    75.440105  \n38    51.247609    52.973753    54.803851    56.709016    58.683829  \n39   188.192295   190.726321   193.536498   196.383668   199.233045  \n40    56.875932    60.469186    64.152113    67.974649    71.978003  \n41    40.530581    43.082094    45.694571    48.402635    51.236089  \n42    57.599289    61.199887    64.888087    68.714465    72.720204  \n43    41.253938    43.812794    46.430545    49.142451    51.978290  \n44   124.048293   130.744353   137.895765   145.538850   153.778784  \n45    71.427784    72.752617    74.501771    76.641208    79.064066  \n46    50.724363    51.655213    52.885882    54.392126    56.099252  \n47    76.065849    77.483642    79.336266    81.590284    84.139514  \n48    55.342303    56.365873    57.699787    59.320406    61.153717  \n49   234.350551   239.897824   246.916389   255.283331   264.653520  \n\n[50 rows x 38 columns]",
      "text/html": "<div>\n<style scoped>\n    .dataframe tbody tr th:only-of-type {\n        vertical-align: middle;\n    }\n\n    .dataframe tbody tr th {\n        vertical-align: top;\n    }\n\n    .dataframe thead th {\n        text-align: right;\n    }\n</style>\n<table border=\"1\" class=\"dataframe\">\n  <thead>\n    <tr style=\"text-align: right;\">\n      <th></th>\n      <th>Region</th>\n      <th>Country</th>\n      <th>CountryID</th>\n      <th>Industry</th>\n      <th>Edition</th>\n      <th>Category</th>\n      <th>ParentID</th>\n      <th>Subcategory</th>\n      <th>ProductID</th>\n      <th>Lowest Level</th>\n      <th>...</th>\n      <th>2010</th>\n      <th>2011</th>\n      <th>2012</th>\n      <th>2013</th>\n      <th>2014</th>\n      <th>2015</th>\n      <th>2016</th>\n      <th>2017</th>\n      <th>2018</th>\n      <th>2019</th>\n    </tr>\n  </thead>\n  <tbody>\n    <tr>\n      <th>0</th>\n      <td>Asia Pacific</td>\n      <td>Azerbaijan</td>\n      <td>163</td>\n      <td>Packaged Food</td>\n      <td>2015</td>\n      <td>Ice Cream</td>\n      <td>160660</td>\n      <td>Ice Cream</td>\n      <td>160660</td>\n      <td>no</td>\n      <td>...</td>\n      <td>NaN</td>\n      <td>29.238692</td>\n      <td>30.340307</td>\n      <td>31.797428</td>\n      <td>33.885975</td>\n      <td>35.270988</td>\n      <td>36.555240</td>\n      <td>37.919347</td>\n      <td>39.441743</td>\n      <td>41.215181</td>\n    </tr>\n    <tr>\n      <th>1</th>\n      <td>Asia Pacific</td>\n      <td>Azerbaijan</td>\n      <td>163</td>\n      <td>Packaged Food</td>\n      <td>2015</td>\n      <td>Ice Cream</td>\n      <td>160660</td>\n      <td>Ice Cream</td>\n      <td>160660</td>\n      <td>no</td>\n      <td>...</td>\n      <td>21.016289</td>\n      <td>21.442719</td>\n      <td>22.242699</td>\n      <td>23.292057</td>\n      <td>24.805161</td>\n      <td>25.817418</td>\n      <td>26.756105</td>\n      <td>27.743523</td>\n      <td>28.852805</td>\n      <td>30.145005</td>\n    </tr>\n    <tr>\n      <th>2</th>\n      <td>Asia Pacific</td>\n      <td>Azerbaijan</td>\n      <td>163</td>\n      <td>Packaged Food</td>\n      <td>2015</td>\n      <td>Ice Cream</td>\n      <td>160660</td>\n      <td>Ice Cream</td>\n      <td>160660</td>\n      <td>no</td>\n      <td>...</td>\n      <td>31.683196</td>\n      <td>32.468827</td>\n      <td>33.824007</td>\n      <td>35.596403</td>\n      <td>38.052311</td>\n      <td>39.834793</td>\n      <td>41.564929</td>\n      <td>43.443030</td>\n      <td>45.547622</td>\n      <td>47.999423</td>\n    </tr>\n    <tr>\n      <th>3</th>\n      <td>Asia Pacific</td>\n      <td>Azerbaijan</td>\n      <td>163</td>\n      <td>Packaged Food</td>\n      <td>2015</td>\n      <td>Ice Cream</td>\n      <td>160660</td>\n      <td>Ice Cream</td>\n      <td>160660</td>\n      <td>no</td>\n      <td>...</td>\n      <td>24.040194</td>\n      <td>24.672854</td>\n      <td>25.726400</td>\n      <td>27.091032</td>\n      <td>28.971497</td>\n      <td>30.381223</td>\n      <td>31.765794</td>\n      <td>33.267206</td>\n      <td>34.958683</td>\n      <td>36.929247</td>\n    </tr>\n    <tr>\n      <th>4</th>\n      <td>Asia Pacific</td>\n      <td>Azerbaijan</td>\n      <td>163</td>\n      <td>Packaged Food</td>\n      <td>2015</td>\n      <td>Ice Cream</td>\n      <td>160660</td>\n      <td>Ice Cream</td>\n      <td>160660</td>\n      <td>no</td>\n      <td>...</td>\n      <td>NaN</td>\n      <td>291.810762</td>\n      <td>322.067461</td>\n      <td>343.112059</td>\n      <td>353.900998</td>\n      <td>355.194703</td>\n      <td>360.004716</td>\n      <td>368.686758</td>\n      <td>380.552781</td>\n      <td>395.036649</td>\n    </tr>\n    <tr>\n      <th>5</th>\n      <td>Asia Pacific</td>\n      <td>China</td>\n      <td>195</td>\n      <td>Packaged Food</td>\n      <td>2015</td>\n      <td>Ice Cream</td>\n      <td>160660</td>\n      <td>Ice Cream</td>\n      <td>160660</td>\n      <td>no</td>\n      <td>...</td>\n      <td>2847.082677</td>\n      <td>2984.165172</td>\n      <td>2905.342026</td>\n      <td>2933.889151</td>\n      <td>3005.509439</td>\n      <td>3069.339071</td>\n      <td>3126.563945</td>\n      <td>3189.666130</td>\n      <td>3253.885297</td>\n      <td>3307.052387</td>\n    </tr>\n    <tr>\n      <th>6</th>\n      <td>Asia Pacific</td>\n      <td>China</td>\n      <td>195</td>\n      <td>Packaged Food</td>\n      <td>2015</td>\n      <td>Ice Cream</td>\n      <td>160660</td>\n      <td>Ice Cream</td>\n      <td>160660</td>\n      <td>no</td>\n      <td>...</td>\n      <td>2202.080369</td>\n      <td>2307.703475</td>\n      <td>2246.740213</td>\n      <td>2269.596406</td>\n      <td>2326.098048</td>\n      <td>2376.110183</td>\n      <td>2420.433170</td>\n      <td>2468.486874</td>\n      <td>2516.706245</td>\n      <td>2555.051125</td>\n    </tr>\n    <tr>\n      <th>7</th>\n      <td>Asia Pacific</td>\n      <td>China</td>\n      <td>195</td>\n      <td>Packaged Food</td>\n      <td>2015</td>\n      <td>Ice Cream</td>\n      <td>160660</td>\n      <td>Ice Cream</td>\n      <td>160660</td>\n      <td>no</td>\n      <td>...</td>\n      <td>2851.706501</td>\n      <td>2989.015564</td>\n      <td>2910.410685</td>\n      <td>2939.160557</td>\n      <td>3010.965344</td>\n      <td>3074.958653</td>\n      <td>3132.324016</td>\n      <td>3195.541403</td>\n      <td>3259.848699</td>\n      <td>3313.075423</td>\n    </tr>\n    <tr>\n      <th>8</th>\n      <td>Asia Pacific</td>\n      <td>China</td>\n      <td>195</td>\n      <td>Packaged Food</td>\n      <td>2015</td>\n      <td>Ice Cream</td>\n      <td>160660</td>\n      <td>Ice Cream</td>\n      <td>160660</td>\n      <td>no</td>\n      <td>...</td>\n      <td>2206.704193</td>\n      <td>2312.553867</td>\n      <td>2251.808872</td>\n      <td>2274.867811</td>\n      <td>2331.553952</td>\n      <td>2381.729765</td>\n      <td>2426.193241</td>\n      <td>2474.362147</td>\n      <td>2522.669647</td>\n      <td>2561.074161</td>\n    </tr>\n    <tr>\n      <th>9</th>\n      <td>Asia Pacific</td>\n      <td>China</td>\n      <td>195</td>\n      <td>Packaged Food</td>\n      <td>2015</td>\n      <td>Ice Cream</td>\n      <td>160660</td>\n      <td>Ice Cream</td>\n      <td>160660</td>\n      <td>no</td>\n      <td>...</td>\n      <td>5260.920909</td>\n      <td>5477.981680</td>\n      <td>5497.833501</td>\n      <td>5617.095845</td>\n      <td>5867.056832</td>\n      <td>6073.451814</td>\n      <td>6274.253181</td>\n      <td>6495.483566</td>\n      <td>6727.898391</td>\n      <td>6949.242307</td>\n    </tr>\n    <tr>\n      <th>10</th>\n      <td>Asia Pacific</td>\n      <td>Hong Kong, China</td>\n      <td>259</td>\n      <td>Packaged Food</td>\n      <td>2015</td>\n      <td>Ice Cream</td>\n      <td>160660</td>\n      <td>Ice Cream</td>\n      <td>160660</td>\n      <td>no</td>\n      <td>...</td>\n      <td>11.735992</td>\n      <td>11.932907</td>\n      <td>12.210675</td>\n      <td>12.450154</td>\n      <td>12.641214</td>\n      <td>12.780121</td>\n      <td>12.886249</td>\n      <td>13.016686</td>\n      <td>13.137946</td>\n      <td>13.248875</td>\n    </tr>\n    <tr>\n      <th>11</th>\n      <td>Asia Pacific</td>\n      <td>Hong Kong, China</td>\n      <td>259</td>\n      <td>Packaged Food</td>\n      <td>2015</td>\n      <td>Ice Cream</td>\n      <td>160660</td>\n      <td>Ice Cream</td>\n      <td>160660</td>\n      <td>no</td>\n      <td>...</td>\n      <td>8.386739</td>\n      <td>8.527428</td>\n      <td>8.724715</td>\n      <td>8.894911</td>\n      <td>9.030801</td>\n      <td>9.129246</td>\n      <td>9.204151</td>\n      <td>9.296824</td>\n      <td>9.383251</td>\n      <td>9.462377</td>\n    </tr>\n    <tr>\n      <th>12</th>\n      <td>Asia Pacific</td>\n      <td>Hong Kong, China</td>\n      <td>259</td>\n      <td>Packaged Food</td>\n      <td>2015</td>\n      <td>Ice Cream</td>\n      <td>160660</td>\n      <td>Ice Cream</td>\n      <td>160660</td>\n      <td>no</td>\n      <td>...</td>\n      <td>13.513880</td>\n      <td>13.736490</td>\n      <td>14.046200</td>\n      <td>14.317767</td>\n      <td>14.536576</td>\n      <td>14.700598</td>\n      <td>14.830255</td>\n      <td>14.982566</td>\n      <td>15.123983</td>\n      <td>15.253290</td>\n    </tr>\n    <tr>\n      <th>13</th>\n      <td>Asia Pacific</td>\n      <td>Hong Kong, China</td>\n      <td>259</td>\n      <td>Packaged Food</td>\n      <td>2015</td>\n      <td>Ice Cream</td>\n      <td>160660</td>\n      <td>Ice Cream</td>\n      <td>160660</td>\n      <td>no</td>\n      <td>...</td>\n      <td>10.164627</td>\n      <td>10.331012</td>\n      <td>10.560240</td>\n      <td>10.762525</td>\n      <td>10.926163</td>\n      <td>11.049723</td>\n      <td>11.148157</td>\n      <td>11.262704</td>\n      <td>11.369287</td>\n      <td>11.466792</td>\n    </tr>\n    <tr>\n      <th>14</th>\n      <td>Asia Pacific</td>\n      <td>Hong Kong, China</td>\n      <td>259</td>\n      <td>Packaged Food</td>\n      <td>2015</td>\n      <td>Ice Cream</td>\n      <td>160660</td>\n      <td>Ice Cream</td>\n      <td>160660</td>\n      <td>no</td>\n      <td>...</td>\n      <td>132.133712</td>\n      <td>129.494363</td>\n      <td>128.871830</td>\n      <td>128.976896</td>\n      <td>131.457344</td>\n      <td>133.265490</td>\n      <td>134.767087</td>\n      <td>136.514965</td>\n      <td>138.171706</td>\n      <td>139.728412</td>\n    </tr>\n    <tr>\n      <th>15</th>\n      <td>Asia Pacific</td>\n      <td>India</td>\n      <td>265</td>\n      <td>Packaged Food</td>\n      <td>2015</td>\n      <td>Ice Cream</td>\n      <td>160660</td>\n      <td>Ice Cream</td>\n      <td>160660</td>\n      <td>no</td>\n      <td>...</td>\n      <td>147.723317</td>\n      <td>167.806372</td>\n      <td>188.176508</td>\n      <td>209.285691</td>\n      <td>228.808568</td>\n      <td>251.355624</td>\n      <td>277.106759</td>\n      <td>305.551444</td>\n      <td>336.238992</td>\n      <td>369.712941</td>\n    </tr>\n    <tr>\n      <th>16</th>\n      <td>Asia Pacific</td>\n      <td>India</td>\n      <td>265</td>\n      <td>Packaged Food</td>\n      <td>2015</td>\n      <td>Ice Cream</td>\n      <td>160660</td>\n      <td>Ice Cream</td>\n      <td>160660</td>\n      <td>no</td>\n      <td>...</td>\n      <td>106.579191</td>\n      <td>120.990969</td>\n      <td>135.570580</td>\n      <td>150.655134</td>\n      <td>164.599516</td>\n      <td>180.757982</td>\n      <td>199.172548</td>\n      <td>219.497995</td>\n      <td>241.419946</td>\n      <td>265.314068</td>\n    </tr>\n    <tr>\n      <th>17</th>\n      <td>Asia Pacific</td>\n      <td>India</td>\n      <td>265</td>\n      <td>Packaged Food</td>\n      <td>2015</td>\n      <td>Ice Cream</td>\n      <td>160660</td>\n      <td>Ice Cream</td>\n      <td>160660</td>\n      <td>no</td>\n      <td>...</td>\n      <td>173.337678</td>\n      <td>197.378584</td>\n      <td>221.609560</td>\n      <td>246.995402</td>\n      <td>271.264274</td>\n      <td>298.976558</td>\n      <td>330.317250</td>\n      <td>364.788180</td>\n      <td>401.970448</td>\n      <td>442.443980</td>\n    </tr>\n    <tr>\n      <th>18</th>\n      <td>Asia Pacific</td>\n      <td>India</td>\n      <td>265</td>\n      <td>Packaged Food</td>\n      <td>2015</td>\n      <td>Ice Cream</td>\n      <td>160660</td>\n      <td>Ice Cream</td>\n      <td>160660</td>\n      <td>no</td>\n      <td>...</td>\n      <td>132.193552</td>\n      <td>150.563181</td>\n      <td>169.003633</td>\n      <td>188.364845</td>\n      <td>207.055221</td>\n      <td>228.378916</td>\n      <td>252.383039</td>\n      <td>278.734731</td>\n      <td>307.151402</td>\n      <td>338.045107</td>\n    </tr>\n    <tr>\n      <th>19</th>\n      <td>Asia Pacific</td>\n      <td>India</td>\n      <td>265</td>\n      <td>Packaged Food</td>\n      <td>2015</td>\n      <td>Ice Cream</td>\n      <td>160660</td>\n      <td>Ice Cream</td>\n      <td>160660</td>\n      <td>no</td>\n      <td>...</td>\n      <td>473.462595</td>\n      <td>529.704887</td>\n      <td>589.819353</td>\n      <td>636.378891</td>\n      <td>674.399638</td>\n      <td>728.829952</td>\n      <td>789.192043</td>\n      <td>855.623025</td>\n      <td>928.342829</td>\n      <td>1004.756340</td>\n    </tr>\n    <tr>\n      <th>20</th>\n      <td>Asia Pacific</td>\n      <td>Indonesia</td>\n      <td>263</td>\n      <td>Packaged Food</td>\n      <td>2015</td>\n      <td>Ice Cream</td>\n      <td>160660</td>\n      <td>Ice Cream</td>\n      <td>160660</td>\n      <td>no</td>\n      <td>...</td>\n      <td>62.636900</td>\n      <td>67.254931</td>\n      <td>72.899911</td>\n      <td>80.133151</td>\n      <td>87.875326</td>\n      <td>96.843633</td>\n      <td>107.047538</td>\n      <td>117.816580</td>\n      <td>129.354289</td>\n      <td>141.840976</td>\n    </tr>\n    <tr>\n      <th>21</th>\n      <td>Asia Pacific</td>\n      <td>Indonesia</td>\n      <td>263</td>\n      <td>Packaged Food</td>\n      <td>2015</td>\n      <td>Ice Cream</td>\n      <td>160660</td>\n      <td>Ice Cream</td>\n      <td>160660</td>\n      <td>no</td>\n      <td>...</td>\n      <td>44.838271</td>\n      <td>48.079850</td>\n      <td>52.103669</td>\n      <td>57.391889</td>\n      <td>62.959307</td>\n      <td>69.360612</td>\n      <td>76.606776</td>\n      <td>84.238320</td>\n      <td>92.402072</td>\n      <td>101.227384</td>\n    </tr>\n    <tr>\n      <th>22</th>\n      <td>Asia Pacific</td>\n      <td>Indonesia</td>\n      <td>263</td>\n      <td>Packaged Food</td>\n      <td>2015</td>\n      <td>Ice Cream</td>\n      <td>160660</td>\n      <td>Ice Cream</td>\n      <td>160660</td>\n      <td>no</td>\n      <td>...</td>\n      <td>122.529450</td>\n      <td>132.816076</td>\n      <td>144.387978</td>\n      <td>157.777514</td>\n      <td>171.867759</td>\n      <td>187.329878</td>\n      <td>204.127152</td>\n      <td>221.532473</td>\n      <td>239.690937</td>\n      <td>259.008678</td>\n    </tr>\n    <tr>\n      <th>23</th>\n      <td>Asia Pacific</td>\n      <td>Indonesia</td>\n      <td>263</td>\n      <td>Packaged Food</td>\n      <td>2015</td>\n      <td>Ice Cream</td>\n      <td>160660</td>\n      <td>Ice Cream</td>\n      <td>160660</td>\n      <td>no</td>\n      <td>...</td>\n      <td>104.730821</td>\n      <td>113.640995</td>\n      <td>123.591736</td>\n      <td>135.036251</td>\n      <td>146.951740</td>\n      <td>159.846857</td>\n      <td>173.686390</td>\n      <td>187.954213</td>\n      <td>202.738720</td>\n      <td>218.395085</td>\n    </tr>\n    <tr>\n      <th>24</th>\n      <td>Asia Pacific</td>\n      <td>Indonesia</td>\n      <td>263</td>\n      <td>Packaged Food</td>\n      <td>2015</td>\n      <td>Ice Cream</td>\n      <td>160660</td>\n      <td>Ice Cream</td>\n      <td>160660</td>\n      <td>no</td>\n      <td>...</td>\n      <td>231.512662</td>\n      <td>253.255853</td>\n      <td>284.205421</td>\n      <td>316.019189</td>\n      <td>351.049602</td>\n      <td>391.578979</td>\n      <td>437.834923</td>\n      <td>487.867303</td>\n      <td>542.011514</td>\n      <td>601.406060</td>\n    </tr>\n    <tr>\n      <th>25</th>\n      <td>Asia Pacific</td>\n      <td>Japan</td>\n      <td>276</td>\n      <td>Packaged Food</td>\n      <td>2015</td>\n      <td>Ice Cream</td>\n      <td>160660</td>\n      <td>Ice Cream</td>\n      <td>160660</td>\n      <td>no</td>\n      <td>...</td>\n      <td>760.753703</td>\n      <td>747.166284</td>\n      <td>762.086265</td>\n      <td>780.622448</td>\n      <td>788.369334</td>\n      <td>793.583466</td>\n      <td>797.637837</td>\n      <td>800.683982</td>\n      <td>803.229852</td>\n      <td>805.632238</td>\n    </tr>\n    <tr>\n      <th>26</th>\n      <td>Asia Pacific</td>\n      <td>Japan</td>\n      <td>276</td>\n      <td>Packaged Food</td>\n      <td>2015</td>\n      <td>Ice Cream</td>\n      <td>160660</td>\n      <td>Ice Cream</td>\n      <td>160660</td>\n      <td>no</td>\n      <td>...</td>\n      <td>564.586726</td>\n      <td>556.650339</td>\n      <td>567.418397</td>\n      <td>580.949711</td>\n      <td>586.517873</td>\n      <td>590.265597</td>\n      <td>593.224610</td>\n      <td>595.420936</td>\n      <td>597.263150</td>\n      <td>599.034448</td>\n    </tr>\n    <tr>\n      <th>27</th>\n      <td>Asia Pacific</td>\n      <td>Japan</td>\n      <td>276</td>\n      <td>Packaged Food</td>\n      <td>2015</td>\n      <td>Ice Cream</td>\n      <td>160660</td>\n      <td>Ice Cream</td>\n      <td>160660</td>\n      <td>no</td>\n      <td>...</td>\n      <td>911.028537</td>\n      <td>892.750525</td>\n      <td>906.061199</td>\n      <td>923.321747</td>\n      <td>930.079898</td>\n      <td>934.467739</td>\n      <td>937.845428</td>\n      <td>940.365190</td>\n      <td>942.623133</td>\n      <td>944.850351</td>\n    </tr>\n    <tr>\n      <th>28</th>\n      <td>Asia Pacific</td>\n      <td>Japan</td>\n      <td>276</td>\n      <td>Packaged Food</td>\n      <td>2015</td>\n      <td>Ice Cream</td>\n      <td>160660</td>\n      <td>Ice Cream</td>\n      <td>160660</td>\n      <td>no</td>\n      <td>...</td>\n      <td>714.861560</td>\n      <td>702.234579</td>\n      <td>711.393331</td>\n      <td>723.649010</td>\n      <td>728.228437</td>\n      <td>731.149870</td>\n      <td>733.432200</td>\n      <td>735.102144</td>\n      <td>736.656431</td>\n      <td>738.252561</td>\n    </tr>\n    <tr>\n      <th>29</th>\n      <td>Asia Pacific</td>\n      <td>Japan</td>\n      <td>276</td>\n      <td>Packaged Food</td>\n      <td>2015</td>\n      <td>Ice Cream</td>\n      <td>160660</td>\n      <td>Ice Cream</td>\n      <td>160660</td>\n      <td>no</td>\n      <td>...</td>\n      <td>5442.660651</td>\n      <td>5441.094277</td>\n      <td>5552.782946</td>\n      <td>5727.818054</td>\n      <td>5804.042536</td>\n      <td>5889.242726</td>\n      <td>5956.158684</td>\n      <td>6008.481322</td>\n      <td>6053.865154</td>\n      <td>6096.725364</td>\n    </tr>\n    <tr>\n      <th>30</th>\n      <td>Asia Pacific</td>\n      <td>Kazakhstan</td>\n      <td>279</td>\n      <td>Packaged Food</td>\n      <td>2015</td>\n      <td>Ice Cream</td>\n      <td>160660</td>\n      <td>Ice Cream</td>\n      <td>160660</td>\n      <td>no</td>\n      <td>...</td>\n      <td>37.727510</td>\n      <td>38.832398</td>\n      <td>39.865995</td>\n      <td>36.085287</td>\n      <td>35.044612</td>\n      <td>35.160026</td>\n      <td>35.873830</td>\n      <td>36.959643</td>\n      <td>38.203863</td>\n      <td>39.614533</td>\n    </tr>\n    <tr>\n      <th>31</th>\n      <td>Asia Pacific</td>\n      <td>Kazakhstan</td>\n      <td>279</td>\n      <td>Packaged Food</td>\n      <td>2015</td>\n      <td>Ice Cream</td>\n      <td>160660</td>\n      <td>Ice Cream</td>\n      <td>160660</td>\n      <td>no</td>\n      <td>...</td>\n      <td>26.664037</td>\n      <td>27.455125</td>\n      <td>28.194966</td>\n      <td>25.520771</td>\n      <td>24.799575</td>\n      <td>24.889180</td>\n      <td>25.398831</td>\n      <td>26.170010</td>\n      <td>27.052673</td>\n      <td>28.051600</td>\n    </tr>\n    <tr>\n      <th>32</th>\n      <td>Asia Pacific</td>\n      <td>Kazakhstan</td>\n      <td>279</td>\n      <td>Packaged Food</td>\n      <td>2015</td>\n      <td>Ice Cream</td>\n      <td>160660</td>\n      <td>Ice Cream</td>\n      <td>160660</td>\n      <td>no</td>\n      <td>...</td>\n      <td>39.921224</td>\n      <td>41.084465</td>\n      <td>42.170761</td>\n      <td>38.167287</td>\n      <td>37.170334</td>\n      <td>37.329682</td>\n      <td>38.073643</td>\n      <td>39.191354</td>\n      <td>40.462355</td>\n      <td>41.899675</td>\n    </tr>\n    <tr>\n      <th>33</th>\n      <td>Asia Pacific</td>\n      <td>Kazakhstan</td>\n      <td>279</td>\n      <td>Packaged Food</td>\n      <td>2015</td>\n      <td>Ice Cream</td>\n      <td>160660</td>\n      <td>Ice Cream</td>\n      <td>160660</td>\n      <td>no</td>\n      <td>...</td>\n      <td>28.857751</td>\n      <td>29.707192</td>\n      <td>30.499731</td>\n      <td>27.602771</td>\n      <td>26.925297</td>\n      <td>27.058835</td>\n      <td>27.598644</td>\n      <td>28.401721</td>\n      <td>29.311165</td>\n      <td>30.336742</td>\n    </tr>\n    <tr>\n      <th>34</th>\n      <td>Asia Pacific</td>\n      <td>Kazakhstan</td>\n      <td>279</td>\n      <td>Packaged Food</td>\n      <td>2015</td>\n      <td>Ice Cream</td>\n      <td>160660</td>\n      <td>Ice Cream</td>\n      <td>160660</td>\n      <td>no</td>\n      <td>...</td>\n      <td>250.182016</td>\n      <td>262.471442</td>\n      <td>280.933033</td>\n      <td>264.409199</td>\n      <td>307.440988</td>\n      <td>306.368861</td>\n      <td>313.896251</td>\n      <td>326.280140</td>\n      <td>339.909184</td>\n      <td>354.948675</td>\n    </tr>\n    <tr>\n      <th>35</th>\n      <td>Asia Pacific</td>\n      <td>Malaysia</td>\n      <td>314</td>\n      <td>Packaged Food</td>\n      <td>2015</td>\n      <td>Ice Cream</td>\n      <td>160660</td>\n      <td>Ice Cream</td>\n      <td>160660</td>\n      <td>no</td>\n      <td>...</td>\n      <td>44.921704</td>\n      <td>46.876998</td>\n      <td>48.977609</td>\n      <td>50.734420</td>\n      <td>52.435975</td>\n      <td>54.110677</td>\n      <td>55.879486</td>\n      <td>57.732043</td>\n      <td>59.623774</td>\n      <td>61.545029</td>\n    </tr>\n    <tr>\n      <th>36</th>\n      <td>Asia Pacific</td>\n      <td>Malaysia</td>\n      <td>314</td>\n      <td>Packaged Food</td>\n      <td>2015</td>\n      <td>Ice Cream</td>\n      <td>160660</td>\n      <td>Ice Cream</td>\n      <td>160660</td>\n      <td>no</td>\n      <td>...</td>\n      <td>32.747725</td>\n      <td>34.196113</td>\n      <td>35.722760</td>\n      <td>37.011909</td>\n      <td>38.259202</td>\n      <td>39.468858</td>\n      <td>40.728645</td>\n      <td>42.052589</td>\n      <td>43.409840</td>\n      <td>44.788753</td>\n    </tr>\n    <tr>\n      <th>37</th>\n      <td>Asia Pacific</td>\n      <td>Malaysia</td>\n      <td>314</td>\n      <td>Packaged Food</td>\n      <td>2015</td>\n      <td>Ice Cream</td>\n      <td>160660</td>\n      <td>Ice Cream</td>\n      <td>160660</td>\n      <td>no</td>\n      <td>...</td>\n      <td>54.772210</td>\n      <td>57.076780</td>\n      <td>59.572799</td>\n      <td>61.686358</td>\n      <td>63.784701</td>\n      <td>65.889427</td>\n      <td>68.124594</td>\n      <td>70.483305</td>\n      <td>72.922950</td>\n      <td>75.440105</td>\n    </tr>\n    <tr>\n      <th>38</th>\n      <td>Asia Pacific</td>\n      <td>Malaysia</td>\n      <td>314</td>\n      <td>Packaged Food</td>\n      <td>2015</td>\n      <td>Ice Cream</td>\n      <td>160660</td>\n      <td>Ice Cream</td>\n      <td>160660</td>\n      <td>no</td>\n      <td>...</td>\n      <td>42.598231</td>\n      <td>44.395895</td>\n      <td>46.317951</td>\n      <td>47.963847</td>\n      <td>49.607928</td>\n      <td>51.247609</td>\n      <td>52.973753</td>\n      <td>54.803851</td>\n      <td>56.709016</td>\n      <td>58.683829</td>\n    </tr>\n    <tr>\n      <th>39</th>\n      <td>Asia Pacific</td>\n      <td>Malaysia</td>\n      <td>314</td>\n      <td>Packaged Food</td>\n      <td>2015</td>\n      <td>Ice Cream</td>\n      <td>160660</td>\n      <td>Ice Cream</td>\n      <td>160660</td>\n      <td>no</td>\n      <td>...</td>\n      <td>171.822704</td>\n      <td>174.858320</td>\n      <td>180.886580</td>\n      <td>184.251912</td>\n      <td>186.231264</td>\n      <td>188.192295</td>\n      <td>190.726321</td>\n      <td>193.536498</td>\n      <td>196.383668</td>\n      <td>199.233045</td>\n    </tr>\n    <tr>\n      <th>40</th>\n      <td>Asia Pacific</td>\n      <td>Pakistan</td>\n      <td>332</td>\n      <td>Packaged Food</td>\n      <td>2015</td>\n      <td>Ice Cream</td>\n      <td>160660</td>\n      <td>Ice Cream</td>\n      <td>160660</td>\n      <td>no</td>\n      <td>...</td>\n      <td>45.840098</td>\n      <td>47.600689</td>\n      <td>49.412996</td>\n      <td>51.174674</td>\n      <td>53.721264</td>\n      <td>56.875932</td>\n      <td>60.469186</td>\n      <td>64.152113</td>\n      <td>67.974649</td>\n      <td>71.978003</td>\n    </tr>\n    <tr>\n      <th>41</th>\n      <td>Asia Pacific</td>\n      <td>Pakistan</td>\n      <td>332</td>\n      <td>Packaged Food</td>\n      <td>2015</td>\n      <td>Ice Cream</td>\n      <td>160660</td>\n      <td>Ice Cream</td>\n      <td>160660</td>\n      <td>no</td>\n      <td>...</td>\n      <td>32.660785</td>\n      <td>33.916959</td>\n      <td>35.210499</td>\n      <td>36.468666</td>\n      <td>38.286832</td>\n      <td>40.530581</td>\n      <td>43.082094</td>\n      <td>45.694571</td>\n      <td>48.402635</td>\n      <td>51.236089</td>\n    </tr>\n    <tr>\n      <th>42</th>\n      <td>Asia Pacific</td>\n      <td>Pakistan</td>\n      <td>332</td>\n      <td>Packaged Food</td>\n      <td>2015</td>\n      <td>Ice Cream</td>\n      <td>160660</td>\n      <td>Ice Cream</td>\n      <td>160660</td>\n      <td>no</td>\n      <td>...</td>\n      <td>46.502287</td>\n      <td>48.278079</td>\n      <td>50.103947</td>\n      <td>51.878075</td>\n      <td>54.435277</td>\n      <td>57.599289</td>\n      <td>61.199887</td>\n      <td>64.888087</td>\n      <td>68.714465</td>\n      <td>72.720204</td>\n    </tr>\n    <tr>\n      <th>43</th>\n      <td>Asia Pacific</td>\n      <td>Pakistan</td>\n      <td>332</td>\n      <td>Packaged Food</td>\n      <td>2015</td>\n      <td>Ice Cream</td>\n      <td>160660</td>\n      <td>Ice Cream</td>\n      <td>160660</td>\n      <td>no</td>\n      <td>...</td>\n      <td>33.322975</td>\n      <td>34.594348</td>\n      <td>35.901450</td>\n      <td>37.172068</td>\n      <td>39.000845</td>\n      <td>41.253938</td>\n      <td>43.812794</td>\n      <td>46.430545</td>\n      <td>49.142451</td>\n      <td>51.978290</td>\n    </tr>\n    <tr>\n      <th>44</th>\n      <td>Asia Pacific</td>\n      <td>Pakistan</td>\n      <td>332</td>\n      <td>Packaged Food</td>\n      <td>2015</td>\n      <td>Ice Cream</td>\n      <td>160660</td>\n      <td>Ice Cream</td>\n      <td>160660</td>\n      <td>no</td>\n      <td>...</td>\n      <td>116.289868</td>\n      <td>113.296134</td>\n      <td>113.612517</td>\n      <td>116.372095</td>\n      <td>118.518427</td>\n      <td>124.048293</td>\n      <td>130.744353</td>\n      <td>137.895765</td>\n      <td>145.538850</td>\n      <td>153.778784</td>\n    </tr>\n    <tr>\n      <th>45</th>\n      <td>Asia Pacific</td>\n      <td>Philippines</td>\n      <td>331</td>\n      <td>Packaged Food</td>\n      <td>2015</td>\n      <td>Ice Cream</td>\n      <td>160660</td>\n      <td>Ice Cream</td>\n      <td>160660</td>\n      <td>no</td>\n      <td>...</td>\n      <td>61.610826</td>\n      <td>64.348298</td>\n      <td>67.361856</td>\n      <td>68.690673</td>\n      <td>70.013877</td>\n      <td>71.427784</td>\n      <td>72.752617</td>\n      <td>74.501771</td>\n      <td>76.641208</td>\n      <td>79.064066</td>\n    </tr>\n    <tr>\n      <th>46</th>\n      <td>Asia Pacific</td>\n      <td>Philippines</td>\n      <td>331</td>\n      <td>Packaged Food</td>\n      <td>2015</td>\n      <td>Ice Cream</td>\n      <td>160660</td>\n      <td>Ice Cream</td>\n      <td>160660</td>\n      <td>no</td>\n      <td>...</td>\n      <td>43.851666</td>\n      <td>45.770912</td>\n      <td>47.877245</td>\n      <td>48.804834</td>\n      <td>49.730590</td>\n      <td>50.724363</td>\n      <td>51.655213</td>\n      <td>52.885882</td>\n      <td>54.392126</td>\n      <td>56.099252</td>\n    </tr>\n    <tr>\n      <th>47</th>\n      <td>Asia Pacific</td>\n      <td>Philippines</td>\n      <td>331</td>\n      <td>Packaged Food</td>\n      <td>2015</td>\n      <td>Ice Cream</td>\n      <td>160660</td>\n      <td>Ice Cream</td>\n      <td>160660</td>\n      <td>no</td>\n      <td>...</td>\n      <td>65.910077</td>\n      <td>68.702309</td>\n      <td>71.775187</td>\n      <td>73.172298</td>\n      <td>74.568962</td>\n      <td>76.065849</td>\n      <td>77.483642</td>\n      <td>79.336266</td>\n      <td>81.590284</td>\n      <td>84.139514</td>\n    </tr>\n    <tr>\n      <th>48</th>\n      <td>Asia Pacific</td>\n      <td>Philippines</td>\n      <td>331</td>\n      <td>Packaged Food</td>\n      <td>2015</td>\n      <td>Ice Cream</td>\n      <td>160660</td>\n      <td>Ice Cream</td>\n      <td>160660</td>\n      <td>no</td>\n      <td>...</td>\n      <td>48.132237</td>\n      <td>50.105924</td>\n      <td>52.271273</td>\n      <td>53.266866</td>\n      <td>54.265809</td>\n      <td>55.342303</td>\n      <td>56.365873</td>\n      <td>57.699787</td>\n      <td>59.320406</td>\n      <td>61.153717</td>\n    </tr>\n    <tr>\n      <th>49</th>\n      <td>Asia Pacific</td>\n      <td>Philippines</td>\n      <td>331</td>\n      <td>Packaged Food</td>\n      <td>2015</td>\n      <td>Ice Cream</td>\n      <td>160660</td>\n      <td>Ice Cream</td>\n      <td>160660</td>\n      <td>no</td>\n      <td>...</td>\n      <td>221.410434</td>\n      <td>220.417529</td>\n      <td>225.578674</td>\n      <td>228.776176</td>\n      <td>228.660532</td>\n      <td>234.350551</td>\n      <td>239.897824</td>\n      <td>246.916389</td>\n      <td>255.283331</td>\n      <td>264.653520</td>\n    </tr>\n  </tbody>\n</table>\n<p>50 rows × 38 columns</p>\n</div>"
     },
     "execution_count": 21,
     "metadata": {},
     "output_type": "execute_result"
    }
   ],
   "source": [
    "# Dataframe view\n",
    "df.head(50) "
   ],
   "metadata": {
    "collapsed": false,
    "ExecuteTime": {
     "end_time": "2024-07-23T12:48:38.340771600Z",
     "start_time": "2024-07-23T12:48:38.266779800Z"
    }
   },
   "id": "710b14efbc40dfd7"
  },
  {
   "cell_type": "code",
   "execution_count": 20,
   "outputs": [
    {
     "name": "stdout",
     "output_type": "stream",
     "text": [
      "<class 'pandas.core.frame.DataFrame'>\n",
      "RangeIndex: 400 entries, 0 to 399\n",
      "Data columns (total 38 columns):\n",
      " #   Column               Non-Null Count  Dtype  \n",
      "---  ------               --------------  -----  \n",
      " 0   Region               400 non-null    object \n",
      " 1   Country              400 non-null    object \n",
      " 2   CountryID            400 non-null    int64  \n",
      " 3   Industry             400 non-null    object \n",
      " 4   Edition              400 non-null    int64  \n",
      " 5   Category             400 non-null    object \n",
      " 6   ParentID             400 non-null    int64  \n",
      " 7   Subcategory          400 non-null    object \n",
      " 8   ProductID            400 non-null    int64  \n",
      " 9   Lowest Level         400 non-null    object \n",
      " 10  Modelled             400 non-null    object \n",
      " 11  Hierarchy Level      400 non-null    int64  \n",
      " 12  Data Type            400 non-null    object \n",
      " 13  DataTypeID           400 non-null    int64  \n",
      " 14  Unit                 400 non-null    object \n",
      " 15  Unit Multiplier      400 non-null    int64  \n",
      " 16  Current/Constant     80 non-null     object \n",
      " 17  Currency Conversion  400 non-null    object \n",
      " 18  2000                 386 non-null    float64\n",
      " 19  2001                 388 non-null    float64\n",
      " 20  2002                 388 non-null    float64\n",
      " 21  2003                 388 non-null    float64\n",
      " 22  2004                 390 non-null    float64\n",
      " 23  2005                 390 non-null    float64\n",
      " 24  2006                 390 non-null    float64\n",
      " 25  2007                 390 non-null    float64\n",
      " 26  2008                 392 non-null    float64\n",
      " 27  2009                 392 non-null    float64\n",
      " 28  2010                 394 non-null    float64\n",
      " 29  2011                 398 non-null    float64\n",
      " 30  2012                 398 non-null    float64\n",
      " 31  2013                 398 non-null    float64\n",
      " 32  2014                 400 non-null    float64\n",
      " 33  2015                 400 non-null    float64\n",
      " 34  2016                 400 non-null    float64\n",
      " 35  2017                 400 non-null    float64\n",
      " 36  2018                 400 non-null    float64\n",
      " 37  2019                 400 non-null    float64\n",
      "dtypes: float64(20), int64(7), object(11)\n",
      "memory usage: 118.9+ KB\n"
     ]
    }
   ],
   "source": [
    "df.info()"
   ],
   "metadata": {
    "collapsed": false,
    "ExecuteTime": {
     "end_time": "2024-07-23T12:34:10.747723100Z",
     "start_time": "2024-07-23T12:34:10.714485700Z"
    }
   },
   "id": "6e53966cb3dc597f"
  },
  {
   "cell_type": "code",
   "execution_count": 22,
   "outputs": [
    {
     "data": {
      "text/plain": "Region                   0\nCountry                  0\nCountryID                0\nIndustry                 0\nEdition                  0\nCategory                 0\nParentID                 0\nSubcategory              0\nProductID                0\nLowest Level             0\nModelled                 0\nHierarchy Level          0\nData Type                0\nDataTypeID               0\nUnit                     0\nUnit Multiplier          0\nCurrent/Constant       320\nCurrency Conversion      0\n2000                    14\n2001                    12\n2002                    12\n2003                    12\n2004                    10\n2005                    10\n2006                    10\n2007                    10\n2008                     8\n2009                     8\n2010                     6\n2011                     2\n2012                     2\n2013                     2\n2014                     0\n2015                     0\n2016                     0\n2017                     0\n2018                     0\n2019                     0\ndtype: int64"
     },
     "execution_count": 22,
     "metadata": {},
     "output_type": "execute_result"
    }
   ],
   "source": [
    "# Sum of Nan values by columns\n",
    "df.isna().sum() "
   ],
   "metadata": {
    "collapsed": false,
    "ExecuteTime": {
     "end_time": "2024-07-23T12:50:38.121513300Z",
     "start_time": "2024-07-23T12:50:38.095543100Z"
    }
   },
   "id": "52d67b8666093e28"
  },
  {
   "cell_type": "code",
   "execution_count": 23,
   "outputs": [],
   "source": [
    "# Filling Nan with 0, in other case we could apply median/mean value\n",
    "df.fillna(0, inplace=True) "
   ],
   "metadata": {
    "collapsed": false,
    "ExecuteTime": {
     "end_time": "2024-07-23T12:53:22.772127300Z",
     "start_time": "2024-07-23T12:53:22.761127300Z"
    }
   },
   "id": "7353b31526d49815"
  },
  {
   "cell_type": "code",
   "execution_count": 24,
   "outputs": [
    {
     "data": {
      "text/plain": "Region                 0\nCountry                0\nCountryID              0\nIndustry               0\nEdition                0\nCategory               0\nParentID               0\nSubcategory            0\nProductID              0\nLowest Level           0\nModelled               0\nHierarchy Level        0\nData Type              0\nDataTypeID             0\nUnit                   0\nUnit Multiplier        0\nCurrent/Constant       0\nCurrency Conversion    0\n2000                   0\n2001                   0\n2002                   0\n2003                   0\n2004                   0\n2005                   0\n2006                   0\n2007                   0\n2008                   0\n2009                   0\n2010                   0\n2011                   0\n2012                   0\n2013                   0\n2014                   0\n2015                   0\n2016                   0\n2017                   0\n2018                   0\n2019                   0\ndtype: int64"
     },
     "execution_count": 24,
     "metadata": {},
     "output_type": "execute_result"
    }
   ],
   "source": [
    "# Check of filling Nan values\n",
    "df.isna().sum() "
   ],
   "metadata": {
    "collapsed": false,
    "ExecuteTime": {
     "end_time": "2024-07-23T12:53:40.734268700Z",
     "start_time": "2024-07-23T12:53:40.706270300Z"
    }
   },
   "id": "f5a3b89c09cb76b2"
  },
  {
   "cell_type": "code",
   "execution_count": 35,
   "outputs": [
    {
     "data": {
      "text/plain": "          Region           Country  CountryID       Industry  Edition  \\\n0   Asia Pacific        Azerbaijan        163  Packaged Food     2015   \n1   Asia Pacific        Azerbaijan        163  Packaged Food     2015   \n2   Asia Pacific        Azerbaijan        163  Packaged Food     2015   \n3   Asia Pacific        Azerbaijan        163  Packaged Food     2015   \n4   Asia Pacific        Azerbaijan        163  Packaged Food     2015   \n5   Asia Pacific             China        195  Packaged Food     2015   \n6   Asia Pacific             China        195  Packaged Food     2015   \n7   Asia Pacific             China        195  Packaged Food     2015   \n8   Asia Pacific             China        195  Packaged Food     2015   \n9   Asia Pacific             China        195  Packaged Food     2015   \n10  Asia Pacific  Hong Kong, China        259  Packaged Food     2015   \n11  Asia Pacific  Hong Kong, China        259  Packaged Food     2015   \n12  Asia Pacific  Hong Kong, China        259  Packaged Food     2015   \n13  Asia Pacific  Hong Kong, China        259  Packaged Food     2015   \n14  Asia Pacific  Hong Kong, China        259  Packaged Food     2015   \n15  Asia Pacific             India        265  Packaged Food     2015   \n16  Asia Pacific             India        265  Packaged Food     2015   \n17  Asia Pacific             India        265  Packaged Food     2015   \n18  Asia Pacific             India        265  Packaged Food     2015   \n19  Asia Pacific             India        265  Packaged Food     2015   \n\n     Category  ParentID  Subcategory  ProductID Lowest Level  ...  \\\n0   Ice Cream    160660    Ice Cream     160660           no  ...   \n1   Ice Cream    160660    Ice Cream     160660           no  ...   \n2   Ice Cream    160660    Ice Cream     160660           no  ...   \n3   Ice Cream    160660    Ice Cream     160660           no  ...   \n4   Ice Cream    160660    Ice Cream     160660           no  ...   \n5   Ice Cream    160660    Ice Cream     160660           no  ...   \n6   Ice Cream    160660    Ice Cream     160660           no  ...   \n7   Ice Cream    160660    Ice Cream     160660           no  ...   \n8   Ice Cream    160660    Ice Cream     160660           no  ...   \n9   Ice Cream    160660    Ice Cream     160660           no  ...   \n10  Ice Cream    160660    Ice Cream     160660           no  ...   \n11  Ice Cream    160660    Ice Cream     160660           no  ...   \n12  Ice Cream    160660    Ice Cream     160660           no  ...   \n13  Ice Cream    160660    Ice Cream     160660           no  ...   \n14  Ice Cream    160660    Ice Cream     160660           no  ...   \n15  Ice Cream    160660    Ice Cream     160660           no  ...   \n16  Ice Cream    160660    Ice Cream     160660           no  ...   \n17  Ice Cream    160660    Ice Cream     160660           no  ...   \n18  Ice Cream    160660    Ice Cream     160660           no  ...   \n19  Ice Cream    160660    Ice Cream     160660           no  ...   \n\n           2010         2011         2012         2013         2014  \\\n0      0.000000    29.238692    30.340307    31.797428    33.885975   \n1     21.016289    21.442719    22.242699    23.292057    24.805161   \n2     31.683196    32.468827    33.824007    35.596403    38.052311   \n3     24.040194    24.672854    25.726400    27.091032    28.971497   \n4      0.000000   291.810762   322.067461   343.112059   353.900998   \n5   2847.082677  2984.165172  2905.342026  2933.889151  3005.509439   \n6   2202.080369  2307.703475  2246.740213  2269.596406  2326.098048   \n7   2851.706501  2989.015564  2910.410685  2939.160557  3010.965344   \n8   2206.704193  2312.553867  2251.808872  2274.867811  2331.553952   \n9   5260.920909  5477.981680  5497.833501  5617.095845  5867.056832   \n10    11.735992    11.932907    12.210675    12.450154    12.641214   \n11     8.386739     8.527428     8.724715     8.894911     9.030801   \n12    13.513880    13.736490    14.046200    14.317767    14.536576   \n13    10.164627    10.331012    10.560240    10.762525    10.926163   \n14   132.133712   129.494363   128.871830   128.976896   131.457344   \n15   147.723317   167.806372   188.176508   209.285691   228.808568   \n16   106.579191   120.990969   135.570580   150.655134   164.599516   \n17   173.337678   197.378584   221.609560   246.995402   271.264274   \n18   132.193552   150.563181   169.003633   188.364845   207.055221   \n19   473.462595   529.704887   589.819353   636.378891   674.399638   \n\n           2015         2016         2017         2018         2019  \n0     35.270988    36.555240    37.919347    39.441743    41.215181  \n1     25.817418    26.756105    27.743523    28.852805    30.145005  \n2     39.834793    41.564929    43.443030    45.547622    47.999423  \n3     30.381223    31.765794    33.267206    34.958683    36.929247  \n4    355.194703   360.004716   368.686758   380.552781   395.036649  \n5   3069.339071  3126.563945  3189.666130  3253.885297  3307.052387  \n6   2376.110183  2420.433170  2468.486874  2516.706245  2555.051125  \n7   3074.958653  3132.324016  3195.541403  3259.848699  3313.075423  \n8   2381.729765  2426.193241  2474.362147  2522.669647  2561.074161  \n9   6073.451814  6274.253181  6495.483566  6727.898391  6949.242307  \n10    12.780121    12.886249    13.016686    13.137946    13.248875  \n11     9.129246     9.204151     9.296824     9.383251     9.462377  \n12    14.700598    14.830255    14.982566    15.123983    15.253290  \n13    11.049723    11.148157    11.262704    11.369287    11.466792  \n14   133.265490   134.767087   136.514965   138.171706   139.728412  \n15   251.355624   277.106759   305.551444   336.238992   369.712941  \n16   180.757982   199.172548   219.497995   241.419946   265.314068  \n17   298.976558   330.317250   364.788180   401.970448   442.443980  \n18   228.378916   252.383039   278.734731   307.151402   338.045107  \n19   728.829952   789.192043   855.623025   928.342829  1004.756340  \n\n[20 rows x 38 columns]",
      "text/html": "<div>\n<style scoped>\n    .dataframe tbody tr th:only-of-type {\n        vertical-align: middle;\n    }\n\n    .dataframe tbody tr th {\n        vertical-align: top;\n    }\n\n    .dataframe thead th {\n        text-align: right;\n    }\n</style>\n<table border=\"1\" class=\"dataframe\">\n  <thead>\n    <tr style=\"text-align: right;\">\n      <th></th>\n      <th>Region</th>\n      <th>Country</th>\n      <th>CountryID</th>\n      <th>Industry</th>\n      <th>Edition</th>\n      <th>Category</th>\n      <th>ParentID</th>\n      <th>Subcategory</th>\n      <th>ProductID</th>\n      <th>Lowest Level</th>\n      <th>...</th>\n      <th>2010</th>\n      <th>2011</th>\n      <th>2012</th>\n      <th>2013</th>\n      <th>2014</th>\n      <th>2015</th>\n      <th>2016</th>\n      <th>2017</th>\n      <th>2018</th>\n      <th>2019</th>\n    </tr>\n  </thead>\n  <tbody>\n    <tr>\n      <th>0</th>\n      <td>Asia Pacific</td>\n      <td>Azerbaijan</td>\n      <td>163</td>\n      <td>Packaged Food</td>\n      <td>2015</td>\n      <td>Ice Cream</td>\n      <td>160660</td>\n      <td>Ice Cream</td>\n      <td>160660</td>\n      <td>no</td>\n      <td>...</td>\n      <td>0.000000</td>\n      <td>29.238692</td>\n      <td>30.340307</td>\n      <td>31.797428</td>\n      <td>33.885975</td>\n      <td>35.270988</td>\n      <td>36.555240</td>\n      <td>37.919347</td>\n      <td>39.441743</td>\n      <td>41.215181</td>\n    </tr>\n    <tr>\n      <th>1</th>\n      <td>Asia Pacific</td>\n      <td>Azerbaijan</td>\n      <td>163</td>\n      <td>Packaged Food</td>\n      <td>2015</td>\n      <td>Ice Cream</td>\n      <td>160660</td>\n      <td>Ice Cream</td>\n      <td>160660</td>\n      <td>no</td>\n      <td>...</td>\n      <td>21.016289</td>\n      <td>21.442719</td>\n      <td>22.242699</td>\n      <td>23.292057</td>\n      <td>24.805161</td>\n      <td>25.817418</td>\n      <td>26.756105</td>\n      <td>27.743523</td>\n      <td>28.852805</td>\n      <td>30.145005</td>\n    </tr>\n    <tr>\n      <th>2</th>\n      <td>Asia Pacific</td>\n      <td>Azerbaijan</td>\n      <td>163</td>\n      <td>Packaged Food</td>\n      <td>2015</td>\n      <td>Ice Cream</td>\n      <td>160660</td>\n      <td>Ice Cream</td>\n      <td>160660</td>\n      <td>no</td>\n      <td>...</td>\n      <td>31.683196</td>\n      <td>32.468827</td>\n      <td>33.824007</td>\n      <td>35.596403</td>\n      <td>38.052311</td>\n      <td>39.834793</td>\n      <td>41.564929</td>\n      <td>43.443030</td>\n      <td>45.547622</td>\n      <td>47.999423</td>\n    </tr>\n    <tr>\n      <th>3</th>\n      <td>Asia Pacific</td>\n      <td>Azerbaijan</td>\n      <td>163</td>\n      <td>Packaged Food</td>\n      <td>2015</td>\n      <td>Ice Cream</td>\n      <td>160660</td>\n      <td>Ice Cream</td>\n      <td>160660</td>\n      <td>no</td>\n      <td>...</td>\n      <td>24.040194</td>\n      <td>24.672854</td>\n      <td>25.726400</td>\n      <td>27.091032</td>\n      <td>28.971497</td>\n      <td>30.381223</td>\n      <td>31.765794</td>\n      <td>33.267206</td>\n      <td>34.958683</td>\n      <td>36.929247</td>\n    </tr>\n    <tr>\n      <th>4</th>\n      <td>Asia Pacific</td>\n      <td>Azerbaijan</td>\n      <td>163</td>\n      <td>Packaged Food</td>\n      <td>2015</td>\n      <td>Ice Cream</td>\n      <td>160660</td>\n      <td>Ice Cream</td>\n      <td>160660</td>\n      <td>no</td>\n      <td>...</td>\n      <td>0.000000</td>\n      <td>291.810762</td>\n      <td>322.067461</td>\n      <td>343.112059</td>\n      <td>353.900998</td>\n      <td>355.194703</td>\n      <td>360.004716</td>\n      <td>368.686758</td>\n      <td>380.552781</td>\n      <td>395.036649</td>\n    </tr>\n    <tr>\n      <th>5</th>\n      <td>Asia Pacific</td>\n      <td>China</td>\n      <td>195</td>\n      <td>Packaged Food</td>\n      <td>2015</td>\n      <td>Ice Cream</td>\n      <td>160660</td>\n      <td>Ice Cream</td>\n      <td>160660</td>\n      <td>no</td>\n      <td>...</td>\n      <td>2847.082677</td>\n      <td>2984.165172</td>\n      <td>2905.342026</td>\n      <td>2933.889151</td>\n      <td>3005.509439</td>\n      <td>3069.339071</td>\n      <td>3126.563945</td>\n      <td>3189.666130</td>\n      <td>3253.885297</td>\n      <td>3307.052387</td>\n    </tr>\n    <tr>\n      <th>6</th>\n      <td>Asia Pacific</td>\n      <td>China</td>\n      <td>195</td>\n      <td>Packaged Food</td>\n      <td>2015</td>\n      <td>Ice Cream</td>\n      <td>160660</td>\n      <td>Ice Cream</td>\n      <td>160660</td>\n      <td>no</td>\n      <td>...</td>\n      <td>2202.080369</td>\n      <td>2307.703475</td>\n      <td>2246.740213</td>\n      <td>2269.596406</td>\n      <td>2326.098048</td>\n      <td>2376.110183</td>\n      <td>2420.433170</td>\n      <td>2468.486874</td>\n      <td>2516.706245</td>\n      <td>2555.051125</td>\n    </tr>\n    <tr>\n      <th>7</th>\n      <td>Asia Pacific</td>\n      <td>China</td>\n      <td>195</td>\n      <td>Packaged Food</td>\n      <td>2015</td>\n      <td>Ice Cream</td>\n      <td>160660</td>\n      <td>Ice Cream</td>\n      <td>160660</td>\n      <td>no</td>\n      <td>...</td>\n      <td>2851.706501</td>\n      <td>2989.015564</td>\n      <td>2910.410685</td>\n      <td>2939.160557</td>\n      <td>3010.965344</td>\n      <td>3074.958653</td>\n      <td>3132.324016</td>\n      <td>3195.541403</td>\n      <td>3259.848699</td>\n      <td>3313.075423</td>\n    </tr>\n    <tr>\n      <th>8</th>\n      <td>Asia Pacific</td>\n      <td>China</td>\n      <td>195</td>\n      <td>Packaged Food</td>\n      <td>2015</td>\n      <td>Ice Cream</td>\n      <td>160660</td>\n      <td>Ice Cream</td>\n      <td>160660</td>\n      <td>no</td>\n      <td>...</td>\n      <td>2206.704193</td>\n      <td>2312.553867</td>\n      <td>2251.808872</td>\n      <td>2274.867811</td>\n      <td>2331.553952</td>\n      <td>2381.729765</td>\n      <td>2426.193241</td>\n      <td>2474.362147</td>\n      <td>2522.669647</td>\n      <td>2561.074161</td>\n    </tr>\n    <tr>\n      <th>9</th>\n      <td>Asia Pacific</td>\n      <td>China</td>\n      <td>195</td>\n      <td>Packaged Food</td>\n      <td>2015</td>\n      <td>Ice Cream</td>\n      <td>160660</td>\n      <td>Ice Cream</td>\n      <td>160660</td>\n      <td>no</td>\n      <td>...</td>\n      <td>5260.920909</td>\n      <td>5477.981680</td>\n      <td>5497.833501</td>\n      <td>5617.095845</td>\n      <td>5867.056832</td>\n      <td>6073.451814</td>\n      <td>6274.253181</td>\n      <td>6495.483566</td>\n      <td>6727.898391</td>\n      <td>6949.242307</td>\n    </tr>\n    <tr>\n      <th>10</th>\n      <td>Asia Pacific</td>\n      <td>Hong Kong, China</td>\n      <td>259</td>\n      <td>Packaged Food</td>\n      <td>2015</td>\n      <td>Ice Cream</td>\n      <td>160660</td>\n      <td>Ice Cream</td>\n      <td>160660</td>\n      <td>no</td>\n      <td>...</td>\n      <td>11.735992</td>\n      <td>11.932907</td>\n      <td>12.210675</td>\n      <td>12.450154</td>\n      <td>12.641214</td>\n      <td>12.780121</td>\n      <td>12.886249</td>\n      <td>13.016686</td>\n      <td>13.137946</td>\n      <td>13.248875</td>\n    </tr>\n    <tr>\n      <th>11</th>\n      <td>Asia Pacific</td>\n      <td>Hong Kong, China</td>\n      <td>259</td>\n      <td>Packaged Food</td>\n      <td>2015</td>\n      <td>Ice Cream</td>\n      <td>160660</td>\n      <td>Ice Cream</td>\n      <td>160660</td>\n      <td>no</td>\n      <td>...</td>\n      <td>8.386739</td>\n      <td>8.527428</td>\n      <td>8.724715</td>\n      <td>8.894911</td>\n      <td>9.030801</td>\n      <td>9.129246</td>\n      <td>9.204151</td>\n      <td>9.296824</td>\n      <td>9.383251</td>\n      <td>9.462377</td>\n    </tr>\n    <tr>\n      <th>12</th>\n      <td>Asia Pacific</td>\n      <td>Hong Kong, China</td>\n      <td>259</td>\n      <td>Packaged Food</td>\n      <td>2015</td>\n      <td>Ice Cream</td>\n      <td>160660</td>\n      <td>Ice Cream</td>\n      <td>160660</td>\n      <td>no</td>\n      <td>...</td>\n      <td>13.513880</td>\n      <td>13.736490</td>\n      <td>14.046200</td>\n      <td>14.317767</td>\n      <td>14.536576</td>\n      <td>14.700598</td>\n      <td>14.830255</td>\n      <td>14.982566</td>\n      <td>15.123983</td>\n      <td>15.253290</td>\n    </tr>\n    <tr>\n      <th>13</th>\n      <td>Asia Pacific</td>\n      <td>Hong Kong, China</td>\n      <td>259</td>\n      <td>Packaged Food</td>\n      <td>2015</td>\n      <td>Ice Cream</td>\n      <td>160660</td>\n      <td>Ice Cream</td>\n      <td>160660</td>\n      <td>no</td>\n      <td>...</td>\n      <td>10.164627</td>\n      <td>10.331012</td>\n      <td>10.560240</td>\n      <td>10.762525</td>\n      <td>10.926163</td>\n      <td>11.049723</td>\n      <td>11.148157</td>\n      <td>11.262704</td>\n      <td>11.369287</td>\n      <td>11.466792</td>\n    </tr>\n    <tr>\n      <th>14</th>\n      <td>Asia Pacific</td>\n      <td>Hong Kong, China</td>\n      <td>259</td>\n      <td>Packaged Food</td>\n      <td>2015</td>\n      <td>Ice Cream</td>\n      <td>160660</td>\n      <td>Ice Cream</td>\n      <td>160660</td>\n      <td>no</td>\n      <td>...</td>\n      <td>132.133712</td>\n      <td>129.494363</td>\n      <td>128.871830</td>\n      <td>128.976896</td>\n      <td>131.457344</td>\n      <td>133.265490</td>\n      <td>134.767087</td>\n      <td>136.514965</td>\n      <td>138.171706</td>\n      <td>139.728412</td>\n    </tr>\n    <tr>\n      <th>15</th>\n      <td>Asia Pacific</td>\n      <td>India</td>\n      <td>265</td>\n      <td>Packaged Food</td>\n      <td>2015</td>\n      <td>Ice Cream</td>\n      <td>160660</td>\n      <td>Ice Cream</td>\n      <td>160660</td>\n      <td>no</td>\n      <td>...</td>\n      <td>147.723317</td>\n      <td>167.806372</td>\n      <td>188.176508</td>\n      <td>209.285691</td>\n      <td>228.808568</td>\n      <td>251.355624</td>\n      <td>277.106759</td>\n      <td>305.551444</td>\n      <td>336.238992</td>\n      <td>369.712941</td>\n    </tr>\n    <tr>\n      <th>16</th>\n      <td>Asia Pacific</td>\n      <td>India</td>\n      <td>265</td>\n      <td>Packaged Food</td>\n      <td>2015</td>\n      <td>Ice Cream</td>\n      <td>160660</td>\n      <td>Ice Cream</td>\n      <td>160660</td>\n      <td>no</td>\n      <td>...</td>\n      <td>106.579191</td>\n      <td>120.990969</td>\n      <td>135.570580</td>\n      <td>150.655134</td>\n      <td>164.599516</td>\n      <td>180.757982</td>\n      <td>199.172548</td>\n      <td>219.497995</td>\n      <td>241.419946</td>\n      <td>265.314068</td>\n    </tr>\n    <tr>\n      <th>17</th>\n      <td>Asia Pacific</td>\n      <td>India</td>\n      <td>265</td>\n      <td>Packaged Food</td>\n      <td>2015</td>\n      <td>Ice Cream</td>\n      <td>160660</td>\n      <td>Ice Cream</td>\n      <td>160660</td>\n      <td>no</td>\n      <td>...</td>\n      <td>173.337678</td>\n      <td>197.378584</td>\n      <td>221.609560</td>\n      <td>246.995402</td>\n      <td>271.264274</td>\n      <td>298.976558</td>\n      <td>330.317250</td>\n      <td>364.788180</td>\n      <td>401.970448</td>\n      <td>442.443980</td>\n    </tr>\n    <tr>\n      <th>18</th>\n      <td>Asia Pacific</td>\n      <td>India</td>\n      <td>265</td>\n      <td>Packaged Food</td>\n      <td>2015</td>\n      <td>Ice Cream</td>\n      <td>160660</td>\n      <td>Ice Cream</td>\n      <td>160660</td>\n      <td>no</td>\n      <td>...</td>\n      <td>132.193552</td>\n      <td>150.563181</td>\n      <td>169.003633</td>\n      <td>188.364845</td>\n      <td>207.055221</td>\n      <td>228.378916</td>\n      <td>252.383039</td>\n      <td>278.734731</td>\n      <td>307.151402</td>\n      <td>338.045107</td>\n    </tr>\n    <tr>\n      <th>19</th>\n      <td>Asia Pacific</td>\n      <td>India</td>\n      <td>265</td>\n      <td>Packaged Food</td>\n      <td>2015</td>\n      <td>Ice Cream</td>\n      <td>160660</td>\n      <td>Ice Cream</td>\n      <td>160660</td>\n      <td>no</td>\n      <td>...</td>\n      <td>473.462595</td>\n      <td>529.704887</td>\n      <td>589.819353</td>\n      <td>636.378891</td>\n      <td>674.399638</td>\n      <td>728.829952</td>\n      <td>789.192043</td>\n      <td>855.623025</td>\n      <td>928.342829</td>\n      <td>1004.756340</td>\n    </tr>\n  </tbody>\n</table>\n<p>20 rows × 38 columns</p>\n</div>"
     },
     "execution_count": 35,
     "metadata": {},
     "output_type": "execute_result"
    }
   ],
   "source": [
    "df.head(20)"
   ],
   "metadata": {
    "collapsed": false,
    "ExecuteTime": {
     "end_time": "2024-07-23T13:22:06.213243600Z",
     "start_time": "2024-07-23T13:22:06.136238900Z"
    }
   },
   "id": "ac01bf351af0a8c8"
  },
  {
   "cell_type": "code",
   "execution_count": 28,
   "outputs": [
    {
     "name": "stdout",
     "output_type": "stream",
     "text": [
      "<class 'pandas.core.frame.DataFrame'>\n",
      "RangeIndex: 400 entries, 0 to 399\n",
      "Data columns (total 23 columns):\n",
      " #   Column     Non-Null Count  Dtype  \n",
      "---  ------     --------------  -----  \n",
      " 0   Region     400 non-null    object \n",
      " 1   Country    400 non-null    object \n",
      " 2   Data Type  400 non-null    object \n",
      " 3   2000       400 non-null    float64\n",
      " 4   2001       400 non-null    float64\n",
      " 5   2002       400 non-null    float64\n",
      " 6   2003       400 non-null    float64\n",
      " 7   2004       400 non-null    float64\n",
      " 8   2005       400 non-null    float64\n",
      " 9   2006       400 non-null    float64\n",
      " 10  2007       400 non-null    float64\n",
      " 11  2008       400 non-null    float64\n",
      " 12  2009       400 non-null    float64\n",
      " 13  2010       400 non-null    float64\n",
      " 14  2011       400 non-null    float64\n",
      " 15  2012       400 non-null    float64\n",
      " 16  2013       400 non-null    float64\n",
      " 17  2014       400 non-null    float64\n",
      " 18  2015       400 non-null    float64\n",
      " 19  2016       400 non-null    float64\n",
      " 20  2017       400 non-null    float64\n",
      " 21  2018       400 non-null    float64\n",
      " 22  2019       400 non-null    float64\n",
      "dtypes: float64(20), object(3)\n",
      "memory usage: 72.0+ KB\n",
      "None\n"
     ]
    }
   ],
   "source": [
    "# List of column names to drop\n",
    "columns_to_drop = [\n",
    "    'CountryID',\n",
    "    'Industry',\n",
    "    'Edition',\n",
    "    'Category',\n",
    "    'ParentID',\n",
    "    'Subcategory',\n",
    "    'ProductID',\n",
    "    'Lowest Level',\n",
    "    'Modelled',\n",
    "    'Hierarchy Level',\n",
    "    'DataTypeID',\n",
    "    'Unit',\n",
    "    'Unit Multiplier',\n",
    "    'Current/Constant',\n",
    "    'Currency Conversion'\n",
    "]\n",
    "\n",
    "# Drop the specified columns\n",
    "df_cleaned = df.drop(columns=columns_to_drop)\n",
    "\n",
    "# Print the cleaned DataFrame to check the result\n",
    "print(df_cleaned.info())"
   ],
   "metadata": {
    "collapsed": false,
    "ExecuteTime": {
     "end_time": "2024-07-23T13:17:55.734627400Z",
     "start_time": "2024-07-23T13:17:55.672294800Z"
    }
   },
   "id": "bf317b75a11546db"
  },
  {
   "cell_type": "code",
   "execution_count": 79,
   "outputs": [
    {
     "data": {
      "text/plain": "            Region             Country               Data Type       2000  \\\n0     Asia Pacific          Azerbaijan           Retail Volume   0.000000   \n1     Asia Pacific          Azerbaijan  Retail Volume (Tonnes)  13.334554   \n2     Asia Pacific          Azerbaijan            Total Volume  19.577943   \n3     Asia Pacific          Azerbaijan   Total Volume (Tonnes)  14.931705   \n4     Asia Pacific          Azerbaijan        Retail Value RSP   0.000000   \n..             ...                 ...                     ...        ...   \n95  Eastern Europe  Bosnia-Herzegovina           Retail Volume   4.642644   \n96  Eastern Europe  Bosnia-Herzegovina  Retail Volume (Tonnes)   3.391757   \n97  Eastern Europe  Bosnia-Herzegovina            Total Volume   5.032644   \n98  Eastern Europe  Bosnia-Herzegovina   Total Volume (Tonnes)   3.781757   \n99  Eastern Europe  Bosnia-Herzegovina        Retail Value RSP  36.632048   \n\n         2001       2002       2003       2004       2005       2006  ...  \\\n0    0.000000   0.000000   0.000000   0.000000   0.000000   0.000000  ...   \n1   13.798548  14.340582  15.006165  16.047490  16.893265  17.893932  ...   \n2   20.294977  21.171651  22.172237  23.829250  25.152456  26.704597  ...   \n3   15.479710  16.147830  16.897451  18.148897  19.141771  20.310627  ...   \n4    0.000000   0.000000   0.000000   0.000000   0.000000   0.000000  ...   \n..        ...        ...        ...        ...        ...        ...  ...   \n95   4.433603   4.841396   5.246165   5.504587   5.751961   5.918835  ...   \n96   3.245429   3.549925   3.852074   4.049614   4.237908   4.369948  ...   \n97   4.853603   5.291396   5.726165   6.014587   6.321961   6.578835  ...   \n98   3.665429   3.999925   4.332074   4.559614   4.807908   5.029948  ...   \n99  33.656002  36.187951  39.472547  41.505918  42.098709  42.720000  ...   \n\n         2010        2011        2012        2013        2014        2015  \\\n0    0.000000   29.238692   30.340307   31.797428   33.885975   35.270988   \n1   21.016289   21.442719   22.242699   23.292057   24.805161   25.817418   \n2   31.683196   32.468827   33.824007   35.596403   38.052311   39.834793   \n3   24.040194   24.672854   25.726400   27.091032   28.971497   30.381223   \n4    0.000000  291.810762  322.067461  343.112059  353.900998  355.194703   \n..        ...         ...         ...         ...         ...         ...   \n95   4.158623    4.415830    4.565591    4.183230    4.344473    4.462821   \n96   3.026004    3.217483    3.329307    3.050200    3.166949    3.253299   \n97   4.918623    5.198630    5.367961    4.937458    5.121328    5.282403   \n98   3.786004    4.000283    4.131677    3.804428    3.943803    4.072880   \n99  31.827948   33.155731   33.724630   30.312412   31.110018   32.279466   \n\n          2016        2017        2018        2019  \n0    36.555240   37.919347   39.441743   41.215181  \n1    26.756105   27.743523   28.852805   30.145005  \n2    41.564929   43.443030   45.547622   47.999423  \n3    31.765794   33.267206   34.958683   36.929247  \n4   360.004716  368.686758  380.552781  395.036649  \n..         ...         ...         ...         ...  \n95    4.575080    4.687101    4.798473    4.910177  \n96    3.335348    3.417187    3.498525    3.580041  \n97    5.442197    5.601910    5.761767    5.921636  \n98    4.202465    4.331996    4.461819    4.591499  \n99   33.268653   34.186930   35.047492   35.853748  \n\n[100 rows x 23 columns]",
      "text/html": "<div>\n<style scoped>\n    .dataframe tbody tr th:only-of-type {\n        vertical-align: middle;\n    }\n\n    .dataframe tbody tr th {\n        vertical-align: top;\n    }\n\n    .dataframe thead th {\n        text-align: right;\n    }\n</style>\n<table border=\"1\" class=\"dataframe\">\n  <thead>\n    <tr style=\"text-align: right;\">\n      <th></th>\n      <th>Region</th>\n      <th>Country</th>\n      <th>Data Type</th>\n      <th>2000</th>\n      <th>2001</th>\n      <th>2002</th>\n      <th>2003</th>\n      <th>2004</th>\n      <th>2005</th>\n      <th>2006</th>\n      <th>...</th>\n      <th>2010</th>\n      <th>2011</th>\n      <th>2012</th>\n      <th>2013</th>\n      <th>2014</th>\n      <th>2015</th>\n      <th>2016</th>\n      <th>2017</th>\n      <th>2018</th>\n      <th>2019</th>\n    </tr>\n  </thead>\n  <tbody>\n    <tr>\n      <th>0</th>\n      <td>Asia Pacific</td>\n      <td>Azerbaijan</td>\n      <td>Retail Volume</td>\n      <td>0.000000</td>\n      <td>0.000000</td>\n      <td>0.000000</td>\n      <td>0.000000</td>\n      <td>0.000000</td>\n      <td>0.000000</td>\n      <td>0.000000</td>\n      <td>...</td>\n      <td>0.000000</td>\n      <td>29.238692</td>\n      <td>30.340307</td>\n      <td>31.797428</td>\n      <td>33.885975</td>\n      <td>35.270988</td>\n      <td>36.555240</td>\n      <td>37.919347</td>\n      <td>39.441743</td>\n      <td>41.215181</td>\n    </tr>\n    <tr>\n      <th>1</th>\n      <td>Asia Pacific</td>\n      <td>Azerbaijan</td>\n      <td>Retail Volume (Tonnes)</td>\n      <td>13.334554</td>\n      <td>13.798548</td>\n      <td>14.340582</td>\n      <td>15.006165</td>\n      <td>16.047490</td>\n      <td>16.893265</td>\n      <td>17.893932</td>\n      <td>...</td>\n      <td>21.016289</td>\n      <td>21.442719</td>\n      <td>22.242699</td>\n      <td>23.292057</td>\n      <td>24.805161</td>\n      <td>25.817418</td>\n      <td>26.756105</td>\n      <td>27.743523</td>\n      <td>28.852805</td>\n      <td>30.145005</td>\n    </tr>\n    <tr>\n      <th>2</th>\n      <td>Asia Pacific</td>\n      <td>Azerbaijan</td>\n      <td>Total Volume</td>\n      <td>19.577943</td>\n      <td>20.294977</td>\n      <td>21.171651</td>\n      <td>22.172237</td>\n      <td>23.829250</td>\n      <td>25.152456</td>\n      <td>26.704597</td>\n      <td>...</td>\n      <td>31.683196</td>\n      <td>32.468827</td>\n      <td>33.824007</td>\n      <td>35.596403</td>\n      <td>38.052311</td>\n      <td>39.834793</td>\n      <td>41.564929</td>\n      <td>43.443030</td>\n      <td>45.547622</td>\n      <td>47.999423</td>\n    </tr>\n    <tr>\n      <th>3</th>\n      <td>Asia Pacific</td>\n      <td>Azerbaijan</td>\n      <td>Total Volume (Tonnes)</td>\n      <td>14.931705</td>\n      <td>15.479710</td>\n      <td>16.147830</td>\n      <td>16.897451</td>\n      <td>18.148897</td>\n      <td>19.141771</td>\n      <td>20.310627</td>\n      <td>...</td>\n      <td>24.040194</td>\n      <td>24.672854</td>\n      <td>25.726400</td>\n      <td>27.091032</td>\n      <td>28.971497</td>\n      <td>30.381223</td>\n      <td>31.765794</td>\n      <td>33.267206</td>\n      <td>34.958683</td>\n      <td>36.929247</td>\n    </tr>\n    <tr>\n      <th>4</th>\n      <td>Asia Pacific</td>\n      <td>Azerbaijan</td>\n      <td>Retail Value RSP</td>\n      <td>0.000000</td>\n      <td>0.000000</td>\n      <td>0.000000</td>\n      <td>0.000000</td>\n      <td>0.000000</td>\n      <td>0.000000</td>\n      <td>0.000000</td>\n      <td>...</td>\n      <td>0.000000</td>\n      <td>291.810762</td>\n      <td>322.067461</td>\n      <td>343.112059</td>\n      <td>353.900998</td>\n      <td>355.194703</td>\n      <td>360.004716</td>\n      <td>368.686758</td>\n      <td>380.552781</td>\n      <td>395.036649</td>\n    </tr>\n    <tr>\n      <th>...</th>\n      <td>...</td>\n      <td>...</td>\n      <td>...</td>\n      <td>...</td>\n      <td>...</td>\n      <td>...</td>\n      <td>...</td>\n      <td>...</td>\n      <td>...</td>\n      <td>...</td>\n      <td>...</td>\n      <td>...</td>\n      <td>...</td>\n      <td>...</td>\n      <td>...</td>\n      <td>...</td>\n      <td>...</td>\n      <td>...</td>\n      <td>...</td>\n      <td>...</td>\n      <td>...</td>\n    </tr>\n    <tr>\n      <th>95</th>\n      <td>Eastern Europe</td>\n      <td>Bosnia-Herzegovina</td>\n      <td>Retail Volume</td>\n      <td>4.642644</td>\n      <td>4.433603</td>\n      <td>4.841396</td>\n      <td>5.246165</td>\n      <td>5.504587</td>\n      <td>5.751961</td>\n      <td>5.918835</td>\n      <td>...</td>\n      <td>4.158623</td>\n      <td>4.415830</td>\n      <td>4.565591</td>\n      <td>4.183230</td>\n      <td>4.344473</td>\n      <td>4.462821</td>\n      <td>4.575080</td>\n      <td>4.687101</td>\n      <td>4.798473</td>\n      <td>4.910177</td>\n    </tr>\n    <tr>\n      <th>96</th>\n      <td>Eastern Europe</td>\n      <td>Bosnia-Herzegovina</td>\n      <td>Retail Volume (Tonnes)</td>\n      <td>3.391757</td>\n      <td>3.245429</td>\n      <td>3.549925</td>\n      <td>3.852074</td>\n      <td>4.049614</td>\n      <td>4.237908</td>\n      <td>4.369948</td>\n      <td>...</td>\n      <td>3.026004</td>\n      <td>3.217483</td>\n      <td>3.329307</td>\n      <td>3.050200</td>\n      <td>3.166949</td>\n      <td>3.253299</td>\n      <td>3.335348</td>\n      <td>3.417187</td>\n      <td>3.498525</td>\n      <td>3.580041</td>\n    </tr>\n    <tr>\n      <th>97</th>\n      <td>Eastern Europe</td>\n      <td>Bosnia-Herzegovina</td>\n      <td>Total Volume</td>\n      <td>5.032644</td>\n      <td>4.853603</td>\n      <td>5.291396</td>\n      <td>5.726165</td>\n      <td>6.014587</td>\n      <td>6.321961</td>\n      <td>6.578835</td>\n      <td>...</td>\n      <td>4.918623</td>\n      <td>5.198630</td>\n      <td>5.367961</td>\n      <td>4.937458</td>\n      <td>5.121328</td>\n      <td>5.282403</td>\n      <td>5.442197</td>\n      <td>5.601910</td>\n      <td>5.761767</td>\n      <td>5.921636</td>\n    </tr>\n    <tr>\n      <th>98</th>\n      <td>Eastern Europe</td>\n      <td>Bosnia-Herzegovina</td>\n      <td>Total Volume (Tonnes)</td>\n      <td>3.781757</td>\n      <td>3.665429</td>\n      <td>3.999925</td>\n      <td>4.332074</td>\n      <td>4.559614</td>\n      <td>4.807908</td>\n      <td>5.029948</td>\n      <td>...</td>\n      <td>3.786004</td>\n      <td>4.000283</td>\n      <td>4.131677</td>\n      <td>3.804428</td>\n      <td>3.943803</td>\n      <td>4.072880</td>\n      <td>4.202465</td>\n      <td>4.331996</td>\n      <td>4.461819</td>\n      <td>4.591499</td>\n    </tr>\n    <tr>\n      <th>99</th>\n      <td>Eastern Europe</td>\n      <td>Bosnia-Herzegovina</td>\n      <td>Retail Value RSP</td>\n      <td>36.632048</td>\n      <td>33.656002</td>\n      <td>36.187951</td>\n      <td>39.472547</td>\n      <td>41.505918</td>\n      <td>42.098709</td>\n      <td>42.720000</td>\n      <td>...</td>\n      <td>31.827948</td>\n      <td>33.155731</td>\n      <td>33.724630</td>\n      <td>30.312412</td>\n      <td>31.110018</td>\n      <td>32.279466</td>\n      <td>33.268653</td>\n      <td>34.186930</td>\n      <td>35.047492</td>\n      <td>35.853748</td>\n    </tr>\n  </tbody>\n</table>\n<p>100 rows × 23 columns</p>\n</div>"
     },
     "execution_count": 79,
     "metadata": {},
     "output_type": "execute_result"
    }
   ],
   "source": [
    "df_cleaned.head(100)"
   ],
   "metadata": {
    "collapsed": false,
    "ExecuteTime": {
     "end_time": "2024-07-23T15:05:14.158523300Z",
     "start_time": "2024-07-23T15:05:14.109170800Z"
    }
   },
   "id": "45d4ce414babb225"
  },
  {
   "cell_type": "code",
   "execution_count": 89,
   "outputs": [
    {
     "data": {
      "text/plain": "            Region     Country               Data Type  Year       Value\n0     Asia Pacific  Azerbaijan           Retail Volume  2000    0.000000\n1     Asia Pacific  Azerbaijan  Retail Volume (Tonnes)  2000   13.334554\n2     Asia Pacific  Azerbaijan            Total Volume  2000   19.577943\n3     Asia Pacific  Azerbaijan   Total Volume (Tonnes)  2000   14.931705\n4     Asia Pacific  Azerbaijan        Retail Value RSP  2000    0.000000\n..             ...         ...                     ...   ...         ...\n995  Latin America       Chile           Retail Volume  2002   94.918900\n996  Latin America       Chile  Retail Volume (Tonnes)  2002   68.244382\n997  Latin America       Chile            Total Volume  2002  105.039400\n998  Latin America       Chile   Total Volume (Tonnes)  2002   78.364881\n999  Latin America       Chile        Retail Value RSP  2002  519.109270\n\n[1000 rows x 5 columns]",
      "text/html": "<div>\n<style scoped>\n    .dataframe tbody tr th:only-of-type {\n        vertical-align: middle;\n    }\n\n    .dataframe tbody tr th {\n        vertical-align: top;\n    }\n\n    .dataframe thead th {\n        text-align: right;\n    }\n</style>\n<table border=\"1\" class=\"dataframe\">\n  <thead>\n    <tr style=\"text-align: right;\">\n      <th></th>\n      <th>Region</th>\n      <th>Country</th>\n      <th>Data Type</th>\n      <th>Year</th>\n      <th>Value</th>\n    </tr>\n  </thead>\n  <tbody>\n    <tr>\n      <th>0</th>\n      <td>Asia Pacific</td>\n      <td>Azerbaijan</td>\n      <td>Retail Volume</td>\n      <td>2000</td>\n      <td>0.000000</td>\n    </tr>\n    <tr>\n      <th>1</th>\n      <td>Asia Pacific</td>\n      <td>Azerbaijan</td>\n      <td>Retail Volume (Tonnes)</td>\n      <td>2000</td>\n      <td>13.334554</td>\n    </tr>\n    <tr>\n      <th>2</th>\n      <td>Asia Pacific</td>\n      <td>Azerbaijan</td>\n      <td>Total Volume</td>\n      <td>2000</td>\n      <td>19.577943</td>\n    </tr>\n    <tr>\n      <th>3</th>\n      <td>Asia Pacific</td>\n      <td>Azerbaijan</td>\n      <td>Total Volume (Tonnes)</td>\n      <td>2000</td>\n      <td>14.931705</td>\n    </tr>\n    <tr>\n      <th>4</th>\n      <td>Asia Pacific</td>\n      <td>Azerbaijan</td>\n      <td>Retail Value RSP</td>\n      <td>2000</td>\n      <td>0.000000</td>\n    </tr>\n    <tr>\n      <th>...</th>\n      <td>...</td>\n      <td>...</td>\n      <td>...</td>\n      <td>...</td>\n      <td>...</td>\n    </tr>\n    <tr>\n      <th>995</th>\n      <td>Latin America</td>\n      <td>Chile</td>\n      <td>Retail Volume</td>\n      <td>2002</td>\n      <td>94.918900</td>\n    </tr>\n    <tr>\n      <th>996</th>\n      <td>Latin America</td>\n      <td>Chile</td>\n      <td>Retail Volume (Tonnes)</td>\n      <td>2002</td>\n      <td>68.244382</td>\n    </tr>\n    <tr>\n      <th>997</th>\n      <td>Latin America</td>\n      <td>Chile</td>\n      <td>Total Volume</td>\n      <td>2002</td>\n      <td>105.039400</td>\n    </tr>\n    <tr>\n      <th>998</th>\n      <td>Latin America</td>\n      <td>Chile</td>\n      <td>Total Volume (Tonnes)</td>\n      <td>2002</td>\n      <td>78.364881</td>\n    </tr>\n    <tr>\n      <th>999</th>\n      <td>Latin America</td>\n      <td>Chile</td>\n      <td>Retail Value RSP</td>\n      <td>2002</td>\n      <td>519.109270</td>\n    </tr>\n  </tbody>\n</table>\n<p>1000 rows × 5 columns</p>\n</div>"
     },
     "execution_count": 89,
     "metadata": {},
     "output_type": "execute_result"
    }
   ],
   "source": [
    "# Melt the DataFrame\n",
    "df_melted = df_cleaned.melt(id_vars=['Region', 'Country', 'Data Type'], var_name='Year', value_name='Value')\n",
    "\n",
    "# Display the melted DataFrame\n",
    "df_melted.head(1000)\n"
   ],
   "metadata": {
    "collapsed": false,
    "ExecuteTime": {
     "end_time": "2024-07-23T15:15:18.673441Z",
     "start_time": "2024-07-23T15:15:18.543865Z"
    }
   },
   "id": "4a51a3abe3aa18ea"
  },
  {
   "cell_type": "code",
   "execution_count": 88,
   "outputs": [
    {
     "name": "stdout",
     "output_type": "stream",
     "text": [
      "<class 'pandas.core.frame.DataFrame'>\n",
      "RangeIndex: 8000 entries, 0 to 7999\n",
      "Data columns (total 5 columns):\n",
      " #   Column     Non-Null Count  Dtype  \n",
      "---  ------     --------------  -----  \n",
      " 0   Region     8000 non-null   object \n",
      " 1   Country    8000 non-null   object \n",
      " 2   Data Type  8000 non-null   object \n",
      " 3   Year       8000 non-null   object \n",
      " 4   Value      8000 non-null   float64\n",
      "dtypes: float64(1), object(4)\n",
      "memory usage: 312.6+ KB\n"
     ]
    }
   ],
   "source": [
    "df_melted.info()"
   ],
   "metadata": {
    "collapsed": false,
    "ExecuteTime": {
     "end_time": "2024-07-23T15:09:33.905515400Z",
     "start_time": "2024-07-23T15:09:33.854520Z"
    }
   },
   "id": "ed2144bb0589311f"
  },
  {
   "cell_type": "code",
   "execution_count": 94,
   "outputs": [
    {
     "data": {
      "text/plain": "          Region     Country  Year  Ice Cream Volume  Ice Cream Value\n0   Asia Pacific  Azerbaijan  2000       13334.55370             0.00\n1   Asia Pacific  Azerbaijan  2001       13798.54844             0.00\n2   Asia Pacific  Azerbaijan  2002       14340.58168             0.00\n3   Asia Pacific  Azerbaijan  2003       15006.16547             0.00\n4   Asia Pacific  Azerbaijan  2004       16047.48967             0.00\n..           ...         ...   ...               ...              ...\n95  Asia Pacific   Indonesia  2015       69360.61195      39157897.92\n96  Asia Pacific   Indonesia  2016       76606.77614      43783492.28\n97  Asia Pacific   Indonesia  2017       84238.32004      48786730.31\n98  Asia Pacific   Indonesia  2018       92402.07188      54201151.36\n99  Asia Pacific   Indonesia  2019      101227.38380      60140606.02\n\n[100 rows x 5 columns]",
      "text/html": "<div>\n<style scoped>\n    .dataframe tbody tr th:only-of-type {\n        vertical-align: middle;\n    }\n\n    .dataframe tbody tr th {\n        vertical-align: top;\n    }\n\n    .dataframe thead th {\n        text-align: right;\n    }\n</style>\n<table border=\"1\" class=\"dataframe\">\n  <thead>\n    <tr style=\"text-align: right;\">\n      <th></th>\n      <th>Region</th>\n      <th>Country</th>\n      <th>Year</th>\n      <th>Ice Cream Volume</th>\n      <th>Ice Cream Value</th>\n    </tr>\n  </thead>\n  <tbody>\n    <tr>\n      <th>0</th>\n      <td>Asia Pacific</td>\n      <td>Azerbaijan</td>\n      <td>2000</td>\n      <td>13334.55370</td>\n      <td>0.00</td>\n    </tr>\n    <tr>\n      <th>1</th>\n      <td>Asia Pacific</td>\n      <td>Azerbaijan</td>\n      <td>2001</td>\n      <td>13798.54844</td>\n      <td>0.00</td>\n    </tr>\n    <tr>\n      <th>2</th>\n      <td>Asia Pacific</td>\n      <td>Azerbaijan</td>\n      <td>2002</td>\n      <td>14340.58168</td>\n      <td>0.00</td>\n    </tr>\n    <tr>\n      <th>3</th>\n      <td>Asia Pacific</td>\n      <td>Azerbaijan</td>\n      <td>2003</td>\n      <td>15006.16547</td>\n      <td>0.00</td>\n    </tr>\n    <tr>\n      <th>4</th>\n      <td>Asia Pacific</td>\n      <td>Azerbaijan</td>\n      <td>2004</td>\n      <td>16047.48967</td>\n      <td>0.00</td>\n    </tr>\n    <tr>\n      <th>...</th>\n      <td>...</td>\n      <td>...</td>\n      <td>...</td>\n      <td>...</td>\n      <td>...</td>\n    </tr>\n    <tr>\n      <th>95</th>\n      <td>Asia Pacific</td>\n      <td>Indonesia</td>\n      <td>2015</td>\n      <td>69360.61195</td>\n      <td>39157897.92</td>\n    </tr>\n    <tr>\n      <th>96</th>\n      <td>Asia Pacific</td>\n      <td>Indonesia</td>\n      <td>2016</td>\n      <td>76606.77614</td>\n      <td>43783492.28</td>\n    </tr>\n    <tr>\n      <th>97</th>\n      <td>Asia Pacific</td>\n      <td>Indonesia</td>\n      <td>2017</td>\n      <td>84238.32004</td>\n      <td>48786730.31</td>\n    </tr>\n    <tr>\n      <th>98</th>\n      <td>Asia Pacific</td>\n      <td>Indonesia</td>\n      <td>2018</td>\n      <td>92402.07188</td>\n      <td>54201151.36</td>\n    </tr>\n    <tr>\n      <th>99</th>\n      <td>Asia Pacific</td>\n      <td>Indonesia</td>\n      <td>2019</td>\n      <td>101227.38380</td>\n      <td>60140606.02</td>\n    </tr>\n  </tbody>\n</table>\n<p>100 rows × 5 columns</p>\n</div>"
     },
     "execution_count": 94,
     "metadata": {},
     "output_type": "execute_result"
    }
   ],
   "source": [
    "\n",
    "# Separate the data by 'Retail Volume (Tonnes)' and 'Retail Value RSP'\n",
    "volume_df = df_melted[df_melted['Data Type'] == 'Retail Volume (Tonnes)']\n",
    "value_df = df_melted[df_melted['Data Type'] == 'Retail Value RSP']\n",
    "\n",
    "# Group by 'Region', 'Country', 'Year' and sum the values\n",
    "volume_sums = volume_df.groupby(['Region', 'Country', 'Year'])['Value'].sum().reset_index()\n",
    "value_sums = value_df.groupby(['Region', 'Country', 'Year'])['Value'].sum().reset_index()\n",
    "\n",
    "# Rename columns for clarity\n",
    "volume_sums.rename(columns={'Value': 'Ice Cream Volume'}, inplace=True)\n",
    "value_sums.rename(columns={'Value': 'Ice Cream Value'}, inplace=True)\n",
    "\n",
    "# Multiply the values\n",
    "value_sums['Ice Cream Value'] *= 100000\n",
    "volume_sums['Ice Cream Volume'] *= 1000\n",
    "\n",
    "# Merge the results on 'Region', 'Country', 'Year'\n",
    "merged_df = pd.merge(volume_sums, value_sums, on=['Region', 'Country', 'Year'], how='outer')\n",
    "\n",
    "# Create the formatted column\n",
    "merged_df['Formatted'] = merged_df.apply(\n",
    "    lambda row: f\"{row['Region']}-{row['Country']}-{row['Year']}-{row.get('Ice Cream Value', 0)}-{row.get('Ice Cream Volume', 0)}\",\n",
    "    axis=1\n",
    ")\n",
    "\n",
    "# Drop the 'Formatted' column\n",
    "final_df = merged_df.drop(columns=['Formatted'])\n",
    "final_df.head(100)"
   ],
   "metadata": {
    "collapsed": false,
    "ExecuteTime": {
     "end_time": "2024-07-23T15:44:39.830546800Z",
     "start_time": "2024-07-23T15:44:39.686535500Z"
    }
   },
   "id": "27b084891e41c48d"
  },
  {
   "cell_type": "code",
   "execution_count": 95,
   "outputs": [],
   "source": [
    "# Desired column order\n",
    "new_order = ['Region', 'Country', 'Year', 'Ice Cream Value', 'Ice Cream Volume']\n",
    "\n",
    "# Reorder columns\n",
    "final_df = final_df[new_order]"
   ],
   "metadata": {
    "collapsed": false,
    "ExecuteTime": {
     "end_time": "2024-07-23T15:47:23.328959400Z",
     "start_time": "2024-07-23T15:47:23.304961200Z"
    }
   },
   "id": "4e295565db1f2f82"
  },
  {
   "cell_type": "code",
   "execution_count": 97,
   "outputs": [],
   "source": [
    "#Counting Ice Cream Price\n",
    "final_df['Ice Cream Price'] = final_df['Ice Cream Value'] / final_df['Ice Cream Volume'] "
   ],
   "metadata": {
    "collapsed": false,
    "ExecuteTime": {
     "end_time": "2024-07-23T16:26:54.533497500Z",
     "start_time": "2024-07-23T16:26:54.484496500Z"
    }
   },
   "id": "a3d351bd3e1074b5"
  },
  {
   "cell_type": "code",
   "execution_count": 98,
   "outputs": [
    {
     "data": {
      "text/plain": "          Region     Country  Year  Ice Cream Value  Ice Cream Volume  \\\n0   Asia Pacific  Azerbaijan  2000             0.00       13334.55370   \n1   Asia Pacific  Azerbaijan  2001             0.00       13798.54844   \n2   Asia Pacific  Azerbaijan  2002             0.00       14340.58168   \n3   Asia Pacific  Azerbaijan  2003             0.00       15006.16547   \n4   Asia Pacific  Azerbaijan  2004             0.00       16047.48967   \n..           ...         ...   ...              ...               ...   \n95  Asia Pacific   Indonesia  2015      39157897.92       69360.61195   \n96  Asia Pacific   Indonesia  2016      43783492.28       76606.77614   \n97  Asia Pacific   Indonesia  2017      48786730.31       84238.32004   \n98  Asia Pacific   Indonesia  2018      54201151.36       92402.07188   \n99  Asia Pacific   Indonesia  2019      60140606.02      101227.38380   \n\n    Ice Cream Price  \n0          0.000000  \n1          0.000000  \n2          0.000000  \n3          0.000000  \n4          0.000000  \n..              ...  \n95       564.555254  \n96       571.535502  \n97       579.151273  \n98       586.579394  \n99       594.114001  \n\n[100 rows x 6 columns]",
      "text/html": "<div>\n<style scoped>\n    .dataframe tbody tr th:only-of-type {\n        vertical-align: middle;\n    }\n\n    .dataframe tbody tr th {\n        vertical-align: top;\n    }\n\n    .dataframe thead th {\n        text-align: right;\n    }\n</style>\n<table border=\"1\" class=\"dataframe\">\n  <thead>\n    <tr style=\"text-align: right;\">\n      <th></th>\n      <th>Region</th>\n      <th>Country</th>\n      <th>Year</th>\n      <th>Ice Cream Value</th>\n      <th>Ice Cream Volume</th>\n      <th>Ice Cream Price</th>\n    </tr>\n  </thead>\n  <tbody>\n    <tr>\n      <th>0</th>\n      <td>Asia Pacific</td>\n      <td>Azerbaijan</td>\n      <td>2000</td>\n      <td>0.00</td>\n      <td>13334.55370</td>\n      <td>0.000000</td>\n    </tr>\n    <tr>\n      <th>1</th>\n      <td>Asia Pacific</td>\n      <td>Azerbaijan</td>\n      <td>2001</td>\n      <td>0.00</td>\n      <td>13798.54844</td>\n      <td>0.000000</td>\n    </tr>\n    <tr>\n      <th>2</th>\n      <td>Asia Pacific</td>\n      <td>Azerbaijan</td>\n      <td>2002</td>\n      <td>0.00</td>\n      <td>14340.58168</td>\n      <td>0.000000</td>\n    </tr>\n    <tr>\n      <th>3</th>\n      <td>Asia Pacific</td>\n      <td>Azerbaijan</td>\n      <td>2003</td>\n      <td>0.00</td>\n      <td>15006.16547</td>\n      <td>0.000000</td>\n    </tr>\n    <tr>\n      <th>4</th>\n      <td>Asia Pacific</td>\n      <td>Azerbaijan</td>\n      <td>2004</td>\n      <td>0.00</td>\n      <td>16047.48967</td>\n      <td>0.000000</td>\n    </tr>\n    <tr>\n      <th>...</th>\n      <td>...</td>\n      <td>...</td>\n      <td>...</td>\n      <td>...</td>\n      <td>...</td>\n      <td>...</td>\n    </tr>\n    <tr>\n      <th>95</th>\n      <td>Asia Pacific</td>\n      <td>Indonesia</td>\n      <td>2015</td>\n      <td>39157897.92</td>\n      <td>69360.61195</td>\n      <td>564.555254</td>\n    </tr>\n    <tr>\n      <th>96</th>\n      <td>Asia Pacific</td>\n      <td>Indonesia</td>\n      <td>2016</td>\n      <td>43783492.28</td>\n      <td>76606.77614</td>\n      <td>571.535502</td>\n    </tr>\n    <tr>\n      <th>97</th>\n      <td>Asia Pacific</td>\n      <td>Indonesia</td>\n      <td>2017</td>\n      <td>48786730.31</td>\n      <td>84238.32004</td>\n      <td>579.151273</td>\n    </tr>\n    <tr>\n      <th>98</th>\n      <td>Asia Pacific</td>\n      <td>Indonesia</td>\n      <td>2018</td>\n      <td>54201151.36</td>\n      <td>92402.07188</td>\n      <td>586.579394</td>\n    </tr>\n    <tr>\n      <th>99</th>\n      <td>Asia Pacific</td>\n      <td>Indonesia</td>\n      <td>2019</td>\n      <td>60140606.02</td>\n      <td>101227.38380</td>\n      <td>594.114001</td>\n    </tr>\n  </tbody>\n</table>\n<p>100 rows × 6 columns</p>\n</div>"
     },
     "execution_count": 98,
     "metadata": {},
     "output_type": "execute_result"
    }
   ],
   "source": [
    "final_df.head(100)"
   ],
   "metadata": {
    "collapsed": false,
    "ExecuteTime": {
     "end_time": "2024-07-23T16:27:08.439022800Z",
     "start_time": "2024-07-23T16:27:08.410022900Z"
    }
   },
   "id": "b5eaba53d110b3e8"
  },
  {
   "cell_type": "code",
   "execution_count": 205,
   "outputs": [],
   "source": [
    "#Save dataframe to file\n",
    "final_df.to_csv('dataframe1.csv', index=False)"
   ],
   "metadata": {
    "collapsed": false,
    "ExecuteTime": {
     "end_time": "2024-07-23T20:25:19.843809700Z",
     "start_time": "2024-07-23T20:25:19.756648500Z"
    }
   },
   "id": "4b740ccaee7dfe68"
  },
  {
   "cell_type": "code",
   "execution_count": 105,
   "outputs": [
    {
     "name": "stdout",
     "output_type": "stream",
     "text": [
      "<class 'pandas.core.frame.DataFrame'>\n",
      "Int64Index: 1600 entries, 0 to 1599\n",
      "Data columns (total 6 columns):\n",
      " #   Column            Non-Null Count  Dtype  \n",
      "---  ------            --------------  -----  \n",
      " 0   Region            1600 non-null   object \n",
      " 1   Country           1600 non-null   object \n",
      " 2   Year              1600 non-null   object \n",
      " 3   Ice Cream Value   1600 non-null   float64\n",
      " 4   Ice Cream Volume  1600 non-null   float64\n",
      " 5   Ice Cream Price   1600 non-null   float64\n",
      "dtypes: float64(3), object(3)\n",
      "memory usage: 87.5+ KB\n"
     ]
    }
   ],
   "source": [
    "final_df.info()"
   ],
   "metadata": {
    "collapsed": false,
    "ExecuteTime": {
     "end_time": "2024-07-23T16:42:22.104194Z",
     "start_time": "2024-07-23T16:42:22.026617Z"
    }
   },
   "id": "24baf174ac1cadc5"
  },
  {
   "cell_type": "code",
   "execution_count": 112,
   "outputs": [
    {
     "data": {
      "text/plain": "     Year                  Region  Ice Cream Volume\n0    2000            Asia Pacific      2.104757e+06\n1    2000             Australasia      1.817983e+05\n2    2000          Eastern Europe      5.952718e+05\n3    2000           Latin America      4.704668e+05\n4    2000  Middle East and Africa      3.280442e+05\n..    ...                     ...               ...\n135  2019          Eastern Europe      8.314351e+05\n136  2019           Latin America      9.934569e+05\n137  2019  Middle East and Africa      7.247255e+05\n138  2019           North America      2.837279e+06\n139  2019          Western Europe      2.127326e+06\n\n[140 rows x 3 columns]",
      "text/html": "<div>\n<style scoped>\n    .dataframe tbody tr th:only-of-type {\n        vertical-align: middle;\n    }\n\n    .dataframe tbody tr th {\n        vertical-align: top;\n    }\n\n    .dataframe thead th {\n        text-align: right;\n    }\n</style>\n<table border=\"1\" class=\"dataframe\">\n  <thead>\n    <tr style=\"text-align: right;\">\n      <th></th>\n      <th>Year</th>\n      <th>Region</th>\n      <th>Ice Cream Volume</th>\n    </tr>\n  </thead>\n  <tbody>\n    <tr>\n      <th>0</th>\n      <td>2000</td>\n      <td>Asia Pacific</td>\n      <td>2.104757e+06</td>\n    </tr>\n    <tr>\n      <th>1</th>\n      <td>2000</td>\n      <td>Australasia</td>\n      <td>1.817983e+05</td>\n    </tr>\n    <tr>\n      <th>2</th>\n      <td>2000</td>\n      <td>Eastern Europe</td>\n      <td>5.952718e+05</td>\n    </tr>\n    <tr>\n      <th>3</th>\n      <td>2000</td>\n      <td>Latin America</td>\n      <td>4.704668e+05</td>\n    </tr>\n    <tr>\n      <th>4</th>\n      <td>2000</td>\n      <td>Middle East and Africa</td>\n      <td>3.280442e+05</td>\n    </tr>\n    <tr>\n      <th>...</th>\n      <td>...</td>\n      <td>...</td>\n      <td>...</td>\n    </tr>\n    <tr>\n      <th>135</th>\n      <td>2019</td>\n      <td>Eastern Europe</td>\n      <td>8.314351e+05</td>\n    </tr>\n    <tr>\n      <th>136</th>\n      <td>2019</td>\n      <td>Latin America</td>\n      <td>9.934569e+05</td>\n    </tr>\n    <tr>\n      <th>137</th>\n      <td>2019</td>\n      <td>Middle East and Africa</td>\n      <td>7.247255e+05</td>\n    </tr>\n    <tr>\n      <th>138</th>\n      <td>2019</td>\n      <td>North America</td>\n      <td>2.837279e+06</td>\n    </tr>\n    <tr>\n      <th>139</th>\n      <td>2019</td>\n      <td>Western Europe</td>\n      <td>2.127326e+06</td>\n    </tr>\n  </tbody>\n</table>\n<p>140 rows × 3 columns</p>\n</div>"
     },
     "execution_count": 112,
     "metadata": {},
     "output_type": "execute_result"
    }
   ],
   "source": [
    "# Group by 'Year' and 'Region' and calculate total volume\n",
    "total_volume_by_region = final_df.groupby(['Year', 'Region'])['Ice Cream Volume'].sum().reset_index()\n",
    "\n",
    "# Print the total volumes by region for each year to verify grouping\n",
    "total_volume_by_region.head(200)\n",
    "\n"
   ],
   "metadata": {
    "collapsed": false,
    "ExecuteTime": {
     "end_time": "2024-07-23T16:48:39.086251500Z",
     "start_time": "2024-07-23T16:48:39.024249900Z"
    }
   },
   "id": "6e8ec8bedccfeec2"
  },
  {
   "cell_type": "code",
   "execution_count": 147,
   "outputs": [
    {
     "data": {
      "text/plain": "     Year                  Region  Ice Cream Volume\n126  2018            Asia Pacific      3.989406e+06\n127  2018             Australasia      2.298278e+05\n128  2018          Eastern Europe      8.100645e+05\n129  2018           Latin America      9.538198e+05\n130  2018  Middle East and Africa      6.882976e+05\n131  2018           North America      2.828541e+06\n132  2018          Western Europe      2.095966e+06",
      "text/html": "<div>\n<style scoped>\n    .dataframe tbody tr th:only-of-type {\n        vertical-align: middle;\n    }\n\n    .dataframe tbody tr th {\n        vertical-align: top;\n    }\n\n    .dataframe thead th {\n        text-align: right;\n    }\n</style>\n<table border=\"1\" class=\"dataframe\">\n  <thead>\n    <tr style=\"text-align: right;\">\n      <th></th>\n      <th>Year</th>\n      <th>Region</th>\n      <th>Ice Cream Volume</th>\n    </tr>\n  </thead>\n  <tbody>\n    <tr>\n      <th>126</th>\n      <td>2018</td>\n      <td>Asia Pacific</td>\n      <td>3.989406e+06</td>\n    </tr>\n    <tr>\n      <th>127</th>\n      <td>2018</td>\n      <td>Australasia</td>\n      <td>2.298278e+05</td>\n    </tr>\n    <tr>\n      <th>128</th>\n      <td>2018</td>\n      <td>Eastern Europe</td>\n      <td>8.100645e+05</td>\n    </tr>\n    <tr>\n      <th>129</th>\n      <td>2018</td>\n      <td>Latin America</td>\n      <td>9.538198e+05</td>\n    </tr>\n    <tr>\n      <th>130</th>\n      <td>2018</td>\n      <td>Middle East and Africa</td>\n      <td>6.882976e+05</td>\n    </tr>\n    <tr>\n      <th>131</th>\n      <td>2018</td>\n      <td>North America</td>\n      <td>2.828541e+06</td>\n    </tr>\n    <tr>\n      <th>132</th>\n      <td>2018</td>\n      <td>Western Europe</td>\n      <td>2.095966e+06</td>\n    </tr>\n  </tbody>\n</table>\n</div>"
     },
     "execution_count": 147,
     "metadata": {},
     "output_type": "execute_result"
    }
   ],
   "source": [
    "# Creating new dataframe with values by year=2018\n",
    "volume_2018 = total_volume_by_region[total_volume_by_region['Year'] == '2018']\n",
    "\n",
    "volume_2018.head(10)\n"
   ],
   "metadata": {
    "collapsed": false,
    "ExecuteTime": {
     "end_time": "2024-07-23T17:34:04.079002300Z",
     "start_time": "2024-07-23T17:34:04.038002600Z"
    }
   },
   "id": "efb39b97a12fdcff"
  },
  {
   "cell_type": "code",
   "execution_count": 149,
   "outputs": [],
   "source": [
    "# DF copy\n",
    "new_df=volume_2018"
   ],
   "metadata": {
    "collapsed": false,
    "ExecuteTime": {
     "end_time": "2024-07-23T17:34:44.291344500Z",
     "start_time": "2024-07-23T17:34:44.275347900Z"
    }
   },
   "id": "621669f49bf97036"
  },
  {
   "cell_type": "code",
   "execution_count": 151,
   "outputs": [
    {
     "name": "stderr",
     "output_type": "stream",
     "text": [
      "C:\\Users\\Татьяна\\AppData\\Local\\Temp\\ipykernel_11844\\2106992682.py:1: SettingWithCopyWarning: \n",
      "A value is trying to be set on a copy of a slice from a DataFrame.\n",
      "Try using .loc[row_indexer,col_indexer] = value instead\n",
      "\n",
      "See the caveats in the documentation: https://pandas.pydata.org/pandas-docs/stable/user_guide/indexing.html#returning-a-view-versus-a-copy\n",
      "  new_df[\"Year\"]=pd.to_numeric(volume_2018['Year'], errors='coerce')\n"
     ]
    }
   ],
   "source": [
    "# Converting object Year to int type\n",
    "new_df[\"Year\"]=pd.to_numeric(volume_2018['Year'], errors='coerce')"
   ],
   "metadata": {
    "collapsed": false,
    "ExecuteTime": {
     "end_time": "2024-07-23T17:36:30.288958200Z",
     "start_time": "2024-07-23T17:36:30.242545200Z"
    }
   },
   "id": "7fbd664ef0b0814a"
  },
  {
   "cell_type": "code",
   "execution_count": 159,
   "outputs": [
    {
     "data": {
      "text/plain": "     Year                  Region  Ice Cream Volume\n126  2018            Asia Pacific      3.989406e+06\n131  2018           North America      2.828541e+06\n132  2018          Western Europe      2.095966e+06\n129  2018           Latin America      9.538198e+05\n128  2018          Eastern Europe      8.100645e+05\n130  2018  Middle East and Africa      6.882976e+05\n127  2018             Australasia      2.298278e+05",
      "text/html": "<div>\n<style scoped>\n    .dataframe tbody tr th:only-of-type {\n        vertical-align: middle;\n    }\n\n    .dataframe tbody tr th {\n        vertical-align: top;\n    }\n\n    .dataframe thead th {\n        text-align: right;\n    }\n</style>\n<table border=\"1\" class=\"dataframe\">\n  <thead>\n    <tr style=\"text-align: right;\">\n      <th></th>\n      <th>Year</th>\n      <th>Region</th>\n      <th>Ice Cream Volume</th>\n    </tr>\n  </thead>\n  <tbody>\n    <tr>\n      <th>126</th>\n      <td>2018</td>\n      <td>Asia Pacific</td>\n      <td>3.989406e+06</td>\n    </tr>\n    <tr>\n      <th>131</th>\n      <td>2018</td>\n      <td>North America</td>\n      <td>2.828541e+06</td>\n    </tr>\n    <tr>\n      <th>132</th>\n      <td>2018</td>\n      <td>Western Europe</td>\n      <td>2.095966e+06</td>\n    </tr>\n    <tr>\n      <th>129</th>\n      <td>2018</td>\n      <td>Latin America</td>\n      <td>9.538198e+05</td>\n    </tr>\n    <tr>\n      <th>128</th>\n      <td>2018</td>\n      <td>Eastern Europe</td>\n      <td>8.100645e+05</td>\n    </tr>\n    <tr>\n      <th>130</th>\n      <td>2018</td>\n      <td>Middle East and Africa</td>\n      <td>6.882976e+05</td>\n    </tr>\n    <tr>\n      <th>127</th>\n      <td>2018</td>\n      <td>Australasia</td>\n      <td>2.298278e+05</td>\n    </tr>\n  </tbody>\n</table>\n</div>"
     },
     "execution_count": 159,
     "metadata": {},
     "output_type": "execute_result"
    }
   ],
   "source": [
    "# Sort by total volume in descending order\n",
    "sorted_volumes_2018 = new_df.sort_values(by='Ice Cream Volume', ascending=False)\n",
    "\n",
    "# Get the second largest region in 2018\n",
    "second_largest_region_2018 = sorted_volumes_2018.iloc[1]\n",
    "sorted_volumes_2018.head(10)\n"
   ],
   "metadata": {
    "collapsed": false,
    "ExecuteTime": {
     "end_time": "2024-07-23T17:42:11.616776100Z",
     "start_time": "2024-07-23T17:42:11.584778100Z"
    }
   },
   "id": "5bbdd924793fa06a"
  },
  {
   "cell_type": "code",
   "execution_count": 160,
   "outputs": [
    {
     "name": "stdout",
     "output_type": "stream",
     "text": [
      "Year                         2018\n",
      "Region              North America\n",
      "Ice Cream Volume     2828540.6934\n",
      "Name: 131, dtype: object\n"
     ]
    }
   ],
   "source": [
    "print(second_largest_region_2018)"
   ],
   "metadata": {
    "collapsed": false,
    "ExecuteTime": {
     "end_time": "2024-07-23T17:42:16.220280800Z",
     "start_time": "2024-07-23T17:42:16.177565100Z"
    }
   },
   "id": "c91222a5fe234b99"
  },
  {
   "cell_type": "code",
   "execution_count": 129,
   "outputs": [
    {
     "data": {
      "text/plain": "Index(['Year', 'Region', 'Ice Cream Volume'], dtype='object')"
     },
     "execution_count": 129,
     "metadata": {},
     "output_type": "execute_result"
    }
   ],
   "source": [
    "volume_2018.columns"
   ],
   "metadata": {
    "collapsed": false,
    "ExecuteTime": {
     "end_time": "2024-07-23T17:12:02.231451400Z",
     "start_time": "2024-07-23T17:12:02.221448600Z"
    }
   },
   "id": "1a4889b1ac79f040"
  },
  {
   "cell_type": "code",
   "execution_count": 118,
   "outputs": [
    {
     "name": "stdout",
     "output_type": "stream",
     "text": [
      "<class 'pandas.core.frame.DataFrame'>\n",
      "Int64Index: 7 entries, 126 to 127\n",
      "Data columns (total 3 columns):\n",
      " #   Column            Non-Null Count  Dtype  \n",
      "---  ------            --------------  -----  \n",
      " 0   Year              7 non-null      object \n",
      " 1   Region            7 non-null      object \n",
      " 2   Ice Cream Volume  7 non-null      float64\n",
      "dtypes: float64(1), object(2)\n",
      "memory usage: 224.0+ bytes\n"
     ]
    }
   ],
   "source": [
    "sorted_volumes_2018.info()"
   ],
   "metadata": {
    "collapsed": false,
    "ExecuteTime": {
     "end_time": "2024-07-23T16:55:22.832280400Z",
     "start_time": "2024-07-23T16:55:22.761276800Z"
    }
   },
   "id": "752b9a162fc36060"
  },
  {
   "cell_type": "code",
   "execution_count": 203,
   "outputs": [
    {
     "name": "stdout",
     "output_type": "stream",
     "text": [
      "Third largest region by Ice Cream Value:\n",
      "Region                   Asia Pacific\n",
      "Ice Cream Value    29831743638.804001\n",
      "Name: 0, dtype: object\n",
      "None\n",
      "\n",
      "Tenth largest country by Ice Cream Volume:\n",
      "Country                     Iran\n",
      "Ice Cream Volume    4146781.3793\n",
      "Name: 34, dtype: object\n",
      "None\n"
     ]
    }
   ],
   "source": [
    "\n",
    "def rank_by_metric(df, group_by_cols, metric_col, rank, sort_col=None, ascending=False, year=None, numeric_cols=None):\n",
    "    \"\"\"\n",
    "    Function to rank regions or countries by a specific metric.\n",
    "\n",
    "    Parameters:\n",
    "    - df (DataFrame): The input DataFrame.\n",
    "    - group_by_cols (list): List of columns to group by.\n",
    "    - metric_col (str): The column name of the metric to sum and rank.\n",
    "    - rank (int): The desired rank (e.g., 1 for largest, 2 for second largest, etc.).\n",
    "    - sort_col (str, optional): The column to sort by. If None, sorts by metric_col.\n",
    "    - ascending (bool): Sort order, False for descending and True for ascending.\n",
    "    - year (int, optional): The specific year to filter by. If None, considers all years.\n",
    "    - numeric_cols (list, optional): List of columns to convert to numeric types.\n",
    "\n",
    "    #For function I took only a) and b) tasks, due to realisation of c) task. For the last one there were no requirements of summing data, so it couldn't be the same alg-m.\n",
    "    \"\"\"\n",
    "    # Convert specified columns to numeric if provided\n",
    "    if numeric_cols:\n",
    "        for col in numeric_cols:\n",
    "            df[col] = pd.to_numeric(df[col], errors='coerce')\n",
    "\n",
    "   \n",
    "\n",
    "    # Group by the specified columns and aggregate the metric\n",
    "    updated_df = df.groupby(group_by_cols)[metric_col].sum().reset_index()\n",
    "    \n",
    "    \n",
    "\n",
    "    # Sort by total volume in descending order\n",
    "    sorted_df = updated_df.sort_values(by=metric_col, ascending=False)\n",
    "    \n",
    "    searching_value = sorted_df.iloc[rank-1]\n",
    "\n",
    "    print(searching_value)\n",
    "\n",
    "# a) The third largest region by Ice Cream Value\n",
    "print(\"Third largest region by Ice Cream Value:\")\n",
    "print(rank_by_metric(final_df, ['Region'], 'Ice Cream Value', 3, numeric_cols=['Ice Cream Value']))\n",
    "\n",
    "# b) The tenth largest country by Ice Cream Volume\n",
    "print(\"\\nTenth largest country by Ice Cream Volume:\")\n",
    "print(rank_by_metric(final_df, ['Country'], 'Ice Cream Volume', 10, numeric_cols=['Ice Cream Volume']))\n"
   ],
   "metadata": {
    "collapsed": false,
    "ExecuteTime": {
     "end_time": "2024-07-23T19:05:25.929872400Z",
     "start_time": "2024-07-23T19:05:25.888873700Z"
    }
   },
   "id": "69cb83149d7302ff"
  },
  {
   "cell_type": "markdown",
   "source": [
    "price\n"
   ],
   "metadata": {
    "collapsed": false
   },
   "id": "913148309a201040"
  },
  {
   "cell_type": "code",
   "execution_count": 206,
   "outputs": [
    {
     "name": "stderr",
     "output_type": "stream",
     "text": [
      "C:\\Users\\Татьяна\\AppData\\Local\\Temp\\ipykernel_11844\\2916329662.py:5: SettingWithCopyWarning: \n",
      "A value is trying to be set on a copy of a slice from a DataFrame.\n",
      "Try using .loc[row_indexer,col_indexer] = value instead\n",
      "\n",
      "See the caveats in the documentation: https://pandas.pydata.org/pandas-docs/stable/user_guide/indexing.html#returning-a-view-versus-a-copy\n",
      "  new_table['Year'] = pd.to_numeric(new_table['Year'], errors='coerce')\n"
     ]
    },
    {
     "data": {
      "text/plain": "      Year           Country  Ice Cream Price\n9     2009        Azerbaijan         0.000000\n29    2009             China       241.679866\n49    2009  Hong Kong, China      1584.411182\n69    2009             India       480.333204\n89    2009         Indonesia       501.523903\n...    ...               ...              ...\n1509  2009             Spain      1058.125545\n1529  2009            Sweden      1490.708844\n1549  2009       Switzerland      2045.731471\n1569  2009            Turkey       831.299008\n1589  2009    United Kingdom      1039.673635\n\n[80 rows x 3 columns]",
      "text/html": "<div>\n<style scoped>\n    .dataframe tbody tr th:only-of-type {\n        vertical-align: middle;\n    }\n\n    .dataframe tbody tr th {\n        vertical-align: top;\n    }\n\n    .dataframe thead th {\n        text-align: right;\n    }\n</style>\n<table border=\"1\" class=\"dataframe\">\n  <thead>\n    <tr style=\"text-align: right;\">\n      <th></th>\n      <th>Year</th>\n      <th>Country</th>\n      <th>Ice Cream Price</th>\n    </tr>\n  </thead>\n  <tbody>\n    <tr>\n      <th>9</th>\n      <td>2009</td>\n      <td>Azerbaijan</td>\n      <td>0.000000</td>\n    </tr>\n    <tr>\n      <th>29</th>\n      <td>2009</td>\n      <td>China</td>\n      <td>241.679866</td>\n    </tr>\n    <tr>\n      <th>49</th>\n      <td>2009</td>\n      <td>Hong Kong, China</td>\n      <td>1584.411182</td>\n    </tr>\n    <tr>\n      <th>69</th>\n      <td>2009</td>\n      <td>India</td>\n      <td>480.333204</td>\n    </tr>\n    <tr>\n      <th>89</th>\n      <td>2009</td>\n      <td>Indonesia</td>\n      <td>501.523903</td>\n    </tr>\n    <tr>\n      <th>...</th>\n      <td>...</td>\n      <td>...</td>\n      <td>...</td>\n    </tr>\n    <tr>\n      <th>1509</th>\n      <td>2009</td>\n      <td>Spain</td>\n      <td>1058.125545</td>\n    </tr>\n    <tr>\n      <th>1529</th>\n      <td>2009</td>\n      <td>Sweden</td>\n      <td>1490.708844</td>\n    </tr>\n    <tr>\n      <th>1549</th>\n      <td>2009</td>\n      <td>Switzerland</td>\n      <td>2045.731471</td>\n    </tr>\n    <tr>\n      <th>1569</th>\n      <td>2009</td>\n      <td>Turkey</td>\n      <td>831.299008</td>\n    </tr>\n    <tr>\n      <th>1589</th>\n      <td>2009</td>\n      <td>United Kingdom</td>\n      <td>1039.673635</td>\n    </tr>\n  </tbody>\n</table>\n<p>80 rows × 3 columns</p>\n</div>"
     },
     "execution_count": 206,
     "metadata": {},
     "output_type": "execute_result"
    }
   ],
   "source": [
    "# Create a new table with selected columns\n",
    "new_table = final_df[['Year', 'Country', 'Ice Cream Price']]\n",
    "\n",
    "# Convert 'Year' to numeric\n",
    "new_table['Year'] = pd.to_numeric(new_table['Year'], errors='coerce')\n",
    "\n",
    "# Filter for the year 2018\n",
    "filtered_df = new_table[new_table['Year'] == 2009]\n",
    "\n",
    "# Sort by 'Ice Cream Price' in descending order\n",
    "\n",
    "filtered_df.head(100)"
   ],
   "metadata": {
    "collapsed": false,
    "ExecuteTime": {
     "end_time": "2024-07-24T12:11:34.861334Z",
     "start_time": "2024-07-24T12:11:34.782695200Z"
    }
   },
   "id": "e0058b8dc14e98cc"
  },
  {
   "cell_type": "code",
   "execution_count": 195,
   "outputs": [
    {
     "data": {
      "text/plain": "<bound method DataFrame.info of       Year           Country  Ice Cream Price\n18    2018        Azerbaijan      1318.945544\n38    2018             China       267.329507\n58    2018  Hong Kong, China      1472.535573\n78    2018             India       384.534436\n98    2018         Indonesia       586.579394\n...    ...               ...              ...\n1518  2018             Spain       783.293840\n1538  2018            Sweden      1542.507048\n1558  2018       Switzerland      2189.467305\n1578  2018            Turkey       740.356888\n1598  2018    United Kingdom       988.104269\n\n[80 rows x 3 columns]>"
     },
     "execution_count": 195,
     "metadata": {},
     "output_type": "execute_result"
    }
   ],
   "source": [
    "filtered_df.info "
   ],
   "metadata": {
    "collapsed": false,
    "ExecuteTime": {
     "end_time": "2024-07-23T18:54:21.396116600Z",
     "start_time": "2024-07-23T18:54:21.294864100Z"
    }
   },
   "id": "6f6b3465c9660b9a"
  },
  {
   "cell_type": "code",
   "execution_count": 207,
   "outputs": [
    {
     "name": "stdout",
     "output_type": "stream",
     "text": [
      "\n",
      "Data after sorting by Ice Cream Price:\n",
      "      Year      Country  Ice Cream Price\n",
      "1429  2009        Italy      2405.283629\n",
      "1469  2009       Norway      2098.161890\n",
      "1549  2009  Switzerland      2045.731471\n",
      "1069  2009       Israel      2013.423403\n",
      "969   2009    Venezuela      2010.163870\n",
      "...    ...          ...              ...\n",
      "29    2009        China       241.679866\n",
      "869   2009      Ecuador         0.000000\n",
      "1129  2009      Nigeria         0.000000\n",
      "889   2009    Guatemala         0.000000\n",
      "9     2009   Azerbaijan         0.000000\n",
      "\n",
      "[80 rows x 3 columns]\n",
      "Year                     2009\n",
      "Country                Norway\n",
      "Ice Cream Price    2098.16189\n",
      "Name: 1469, dtype: object\n"
     ]
    }
   ],
   "source": [
    "sorted_price = filtered_df.sort_values(by='Ice Cream Price', ascending=False)\n",
    "\n",
    "\n",
    "# Check the data after sorting\n",
    "print(\"\\nData after sorting by Ice Cream Price:\")\n",
    "print(sorted_price)\n",
    "print(sorted_price.iloc[1])\n"
   ],
   "metadata": {
    "collapsed": false,
    "ExecuteTime": {
     "end_time": "2024-07-24T12:11:59.612724400Z",
     "start_time": "2024-07-24T12:11:59.581306200Z"
    }
   },
   "id": "ca6f903cf015608e"
  },
  {
   "cell_type": "markdown",
   "source": [
    "check for the results\n"
   ],
   "metadata": {
    "collapsed": false
   },
   "id": "d03bb188042fb083"
  },
  {
   "cell_type": "code",
   "execution_count": null,
   "outputs": [],
   "source": [
    "#Here I made tests of average func for the previous tasks, results are the same, this is not main part"
   ],
   "metadata": {
    "collapsed": false
   },
   "id": "2a80069fe80b84ba"
  },
  {
   "cell_type": "code",
   "execution_count": 202,
   "outputs": [
    {
     "data": {
      "text/plain": "                   Region  Ice Cream Value  Year\n6          Western Europe     4.535672e+10   NaN\n5           North America     3.173484e+10   NaN\n0            Asia Pacific     2.983174e+10   NaN\n3           Latin America     1.563367e+10   NaN\n2          Eastern Europe     1.063143e+10   NaN\n4  Middle East and Africa     7.107962e+09   NaN\n1             Australasia     3.759360e+09   NaN",
      "text/html": "<div>\n<style scoped>\n    .dataframe tbody tr th:only-of-type {\n        vertical-align: middle;\n    }\n\n    .dataframe tbody tr th {\n        vertical-align: top;\n    }\n\n    .dataframe thead th {\n        text-align: right;\n    }\n</style>\n<table border=\"1\" class=\"dataframe\">\n  <thead>\n    <tr style=\"text-align: right;\">\n      <th></th>\n      <th>Region</th>\n      <th>Ice Cream Value</th>\n      <th>Year</th>\n    </tr>\n  </thead>\n  <tbody>\n    <tr>\n      <th>6</th>\n      <td>Western Europe</td>\n      <td>4.535672e+10</td>\n      <td>NaN</td>\n    </tr>\n    <tr>\n      <th>5</th>\n      <td>North America</td>\n      <td>3.173484e+10</td>\n      <td>NaN</td>\n    </tr>\n    <tr>\n      <th>0</th>\n      <td>Asia Pacific</td>\n      <td>2.983174e+10</td>\n      <td>NaN</td>\n    </tr>\n    <tr>\n      <th>3</th>\n      <td>Latin America</td>\n      <td>1.563367e+10</td>\n      <td>NaN</td>\n    </tr>\n    <tr>\n      <th>2</th>\n      <td>Eastern Europe</td>\n      <td>1.063143e+10</td>\n      <td>NaN</td>\n    </tr>\n    <tr>\n      <th>4</th>\n      <td>Middle East and Africa</td>\n      <td>7.107962e+09</td>\n      <td>NaN</td>\n    </tr>\n    <tr>\n      <th>1</th>\n      <td>Australasia</td>\n      <td>3.759360e+09</td>\n      <td>NaN</td>\n    </tr>\n  </tbody>\n</table>\n</div>"
     },
     "execution_count": 202,
     "metadata": {},
     "output_type": "execute_result"
    }
   ],
   "source": [
    "# Group by 'Year' and 'Region' and calculate total volume\n",
    "total_volume_by_region = final_df.groupby(['Region'])['Ice Cream Value'].sum().reset_index()\n",
    "\n",
    "\n",
    "new_df = total_volume_by_region\n",
    "new_df[\"Year\"] = pd.to_numeric(volume_2018['Year'], errors='coerce')\n",
    "\n",
    "# Sort by total volume in descending order\n",
    "sorted_volumes_2018 = new_df.sort_values(by='Ice Cream Value', ascending=False)\n",
    "\n",
    "# Get the second largest region in 2018\n",
    "\n",
    "sorted_volumes_2018.head(10)\n"
   ],
   "metadata": {
    "collapsed": false,
    "ExecuteTime": {
     "end_time": "2024-07-23T19:03:56.929064600Z",
     "start_time": "2024-07-23T19:03:56.876064600Z"
    }
   },
   "id": "5bb49b39ec62b939"
  },
  {
   "cell_type": "code",
   "execution_count": 204,
   "outputs": [
    {
     "data": {
      "text/plain": "           Country  Ice Cream Volume\n72             USA      5.451429e+07\n14           China      4.046174e+07\n38           Japan      1.125886e+07\n27         Germany      8.930969e+06\n57          Russia      6.938376e+06\n9           Brazil      6.900494e+06\n75  United Kingdom      5.190918e+06\n37           Italy      4.600846e+06\n25          France      4.189437e+06\n34            Iran      4.146781e+06",
      "text/html": "<div>\n<style scoped>\n    .dataframe tbody tr th:only-of-type {\n        vertical-align: middle;\n    }\n\n    .dataframe tbody tr th {\n        vertical-align: top;\n    }\n\n    .dataframe thead th {\n        text-align: right;\n    }\n</style>\n<table border=\"1\" class=\"dataframe\">\n  <thead>\n    <tr style=\"text-align: right;\">\n      <th></th>\n      <th>Country</th>\n      <th>Ice Cream Volume</th>\n    </tr>\n  </thead>\n  <tbody>\n    <tr>\n      <th>72</th>\n      <td>USA</td>\n      <td>5.451429e+07</td>\n    </tr>\n    <tr>\n      <th>14</th>\n      <td>China</td>\n      <td>4.046174e+07</td>\n    </tr>\n    <tr>\n      <th>38</th>\n      <td>Japan</td>\n      <td>1.125886e+07</td>\n    </tr>\n    <tr>\n      <th>27</th>\n      <td>Germany</td>\n      <td>8.930969e+06</td>\n    </tr>\n    <tr>\n      <th>57</th>\n      <td>Russia</td>\n      <td>6.938376e+06</td>\n    </tr>\n    <tr>\n      <th>9</th>\n      <td>Brazil</td>\n      <td>6.900494e+06</td>\n    </tr>\n    <tr>\n      <th>75</th>\n      <td>United Kingdom</td>\n      <td>5.190918e+06</td>\n    </tr>\n    <tr>\n      <th>37</th>\n      <td>Italy</td>\n      <td>4.600846e+06</td>\n    </tr>\n    <tr>\n      <th>25</th>\n      <td>France</td>\n      <td>4.189437e+06</td>\n    </tr>\n    <tr>\n      <th>34</th>\n      <td>Iran</td>\n      <td>4.146781e+06</td>\n    </tr>\n  </tbody>\n</table>\n</div>"
     },
     "execution_count": 204,
     "metadata": {},
     "output_type": "execute_result"
    }
   ],
   "source": [
    "total_volume_by_region = final_df.groupby(['Country'])['Ice Cream Volume'].sum().reset_index()\n",
    "\n",
    "\n",
    "new_df = total_volume_by_region\n",
    "\n",
    "\n",
    "# Sort by total volume in descending order\n",
    "sorted_volumes_2018 = new_df.sort_values(by='Ice Cream Volume', ascending=False)\n",
    "\n",
    "# Get the second largest region in 2018\n",
    "\n",
    "sorted_volumes_2018.head(10)"
   ],
   "metadata": {
    "collapsed": false,
    "ExecuteTime": {
     "end_time": "2024-07-23T19:06:37.168516100Z",
     "start_time": "2024-07-23T19:06:37.095510500Z"
    }
   },
   "id": "f44629ecc4e1daf0"
  }
 ],
 "metadata": {
  "kernelspec": {
   "display_name": "Python 3",
   "language": "python",
   "name": "python3"
  },
  "language_info": {
   "codemirror_mode": {
    "name": "ipython",
    "version": 2
   },
   "file_extension": ".py",
   "mimetype": "text/x-python",
   "name": "python",
   "nbconvert_exporter": "python",
   "pygments_lexer": "ipython2",
   "version": "2.7.6"
  }
 },
 "nbformat": 4,
 "nbformat_minor": 5
}
